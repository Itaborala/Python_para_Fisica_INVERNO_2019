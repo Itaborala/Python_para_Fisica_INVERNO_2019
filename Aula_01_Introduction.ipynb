{
 "cells": [
  {
   "cell_type": "markdown",
   "metadata": {
    "slideshow": {
     "slide_type": "slide"
    }
   },
   "source": [
    "  # Python para Físicos"
   ]
  },
  {
   "cell_type": "code",
   "execution_count": null,
   "metadata": {
    "slideshow": {
     "slide_type": "skip"
    }
   },
   "outputs": [],
   "source": [
    "print(\"Hello world!\")"
   ]
  },
  {
   "cell_type": "markdown",
   "metadata": {
    "slideshow": {
     "slide_type": "slide"
    }
   },
   "source": [
    "## Por que Python?\n",
    "\n",
    "* Código de fácil leitura: quase pseudo código;\n",
    "* Comunidade online gigantesca;\n",
    "* Protótipos e \"produção\";\n",
    "* Propósito geral:\n",
    "    * Meio acadêmico e científico (Black Hole);\n",
    "    * Web development;\n",
    "    * Computação Gáfica (Walt Disney);\n",
    "    * Games\n",
    "\n",
    "## Por que Python não?\n",
    "\n",
    "* Linguagem interpretada;\n",
    "* *CPU time* vs. *Programmer time*;\n"
   ]
  },
  {
   "cell_type": "markdown",
   "metadata": {
    "slideshow": {
     "slide_type": "slide"
    }
   },
   "source": [
    "## Opções para o desenvolvimento:\n",
    "* Interpretador do Python (quase nunca);\n",
    "* IPython (testes rápidos, calculadora);\n",
    "* Jupyter Notebook (código pequeno, texto e resultados);\n",
    "* Editores de texto: Emacs, Atom, Sublime, Vim e etc."
   ]
  },
  {
   "cell_type": "markdown",
   "metadata": {
    "slideshow": {
     "slide_type": "slide"
    }
   },
   "source": [
    "## Nós usaremos Jupyter \n",
    "\n",
    "Rápido para códigos simples e muito útil para documentação. "
   ]
  },
  {
   "cell_type": "code",
   "execution_count": null,
   "metadata": {
    "scrolled": true,
    "slideshow": {
     "slide_type": "subslide"
    }
   },
   "outputs": [],
   "source": [
    "import numpy as np\n",
    "import matplotlib.pyplot as plt\n",
    "\n",
    "x = np.linspace(0, 2*np.pi, 100)\n",
    "y = (np.sin(x))**2\n",
    "\n",
    "plt.plot(x,y)\n",
    "plt.show()"
   ]
  },
  {
   "cell_type": "markdown",
   "metadata": {
    "slideshow": {
     "slide_type": "slide"
    }
   },
   "source": [
    "# 1. Python Básico:\n",
    "\n",
    "## 1.1 Variáveis:\n",
    "Definimos variáveis associando um nome a um dado, ou a um conjunto de dados. "
   ]
  },
  {
   "cell_type": "code",
   "execution_count": null,
   "metadata": {
    "slideshow": {
     "slide_type": "fragment"
    }
   },
   "outputs": [],
   "source": [
    "# Inteiro (int)\n",
    "inteiro = 10\n",
    "\n",
    "# Real aprox. (float)\n",
    "raiz_de_2 = np.sqrt(2)\n",
    "\n",
    "# Complexo (complex)\n",
    "complex_number = 3 + 4j \n",
    "\n",
    "# Texto 'string' (str)\n",
    "nome = \"Marcos\"\n",
    "\n",
    "# Listas (list)\n",
    "lista = [1, 2, 3.14, 'pi', [4j,5], {'Hey':'Olá'}]\n",
    "\n",
    "# Booleano (bool)\n",
    "verdade = True\n",
    "\n",
    "# Dicionário (dict)\n",
    "Aurelio = {\"maçã\":\"apple\", 2:\"two\", \"Falso\":False}"
   ]
  },
  {
   "cell_type": "code",
   "execution_count": null,
   "metadata": {
    "slideshow": {
     "slide_type": "subslide"
    }
   },
   "outputs": [],
   "source": [
    "# Dicionário (dict)\n",
    "Aurelio = {\"maçã\":\"apple\", 2:\"two\", \"Falso\":False}\n",
    "\n",
    "type(Aurelio[2])"
   ]
  },
  {
   "cell_type": "code",
   "execution_count": null,
   "metadata": {},
   "outputs": [],
   "source": [
    "# Listas (list)\n",
    "lista = [1, 2, 3.14, 'pi', [4j,5], {'Hey':'Olá'}]\n",
    "\n",
    "# type(lista[0])\n",
    "\n",
    "print(lista[-1])"
   ]
  },
  {
   "cell_type": "markdown",
   "metadata": {
    "slideshow": {
     "slide_type": "slide"
    }
   },
   "source": [
    "### O que podemos fazer com essas variáveis?\n",
    "\n",
    "* Variáveis numéricas (`int`, `float` and `complex`) serão nossas principais ferramentas de trabalho: matemática;\n",
    "* Strings (`str`) são usadas para manipular texto;\n",
    "* Usamos listas (`list`) quando precisamos de uma coleção simples de valores; \n",
    "* Dicionário (`dict`) relacionar diferentes objetos."
   ]
  },
  {
   "cell_type": "code",
   "execution_count": null,
   "metadata": {
    "slideshow": {
     "slide_type": "fragment"
    }
   },
   "outputs": [],
   "source": [
    "# Primeiro, podemos verificar o tipo da variável\n",
    "type(nome)\n",
    "nome"
   ]
  },
  {
   "cell_type": "markdown",
   "metadata": {
    "slideshow": {
     "slide_type": "slide"
    }
   },
   "source": [
    "### Ok, mas como saber (lembrar) o que se pode FAZER com uma 'string' ('list'  'dict') e etc?\n",
    "\n",
    "* Tudo em Python são objetos; \n",
    "* Strings são objeto que possuem atibutos (propriedades) e métodos (habilidades).\n",
    "* A função `dir()` permite verificar os métodos e atributos que um objeto possui.\n",
    "\n",
    "```python\n",
    "    dir(nome)\n",
    "```"
   ]
  },
  {
   "cell_type": "code",
   "execution_count": null,
   "metadata": {
    "slideshow": {
     "slide_type": "slide"
    }
   },
   "outputs": [],
   "source": [
    "att_str = dir(nome)\n",
    "\n",
    "for i in att_str:\n",
    "    print(i)"
   ]
  },
  {
   "cell_type": "markdown",
   "metadata": {
    "slideshow": {
     "slide_type": "fragment"
    }
   },
   "source": [
    "Mas o que faz o atributo `swapcase`? Quem pode nos dar um `help()`?"
   ]
  },
  {
   "cell_type": "code",
   "execution_count": null,
   "metadata": {
    "slideshow": {
     "slide_type": "subslide"
    }
   },
   "outputs": [],
   "source": [
    "help(nome.swapcase)"
   ]
  },
  {
   "cell_type": "code",
   "execution_count": null,
   "metadata": {
    "slideshow": {
     "slide_type": "fragment"
    }
   },
   "outputs": [],
   "source": [
    "print(\"Original: %s swapcase: %s\" % (nome, nome.swapcase()))"
   ]
  },
  {
   "cell_type": "code",
   "execution_count": null,
   "metadata": {},
   "outputs": [],
   "source": []
  },
  {
   "cell_type": "markdown",
   "metadata": {
    "slideshow": {
     "slide_type": "slide"
    }
   },
   "source": [
    "### Tais propriedades são comuns a todas as 'strings':"
   ]
  },
  {
   "cell_type": "code",
   "execution_count": null,
   "metadata": {
    "scrolled": true,
    "slideshow": {
     "slide_type": "fragment"
    }
   },
   "outputs": [],
   "source": [
    "frase = \"Hello world!\"\n",
    "print(frase.split(\" \"))\n",
    "print(frase.upper())\n",
    "print(frase.center(5))"
   ]
  },
  {
   "cell_type": "code",
   "execution_count": null,
   "metadata": {
    "slideshow": {
     "slide_type": "fragment"
    }
   },
   "outputs": [],
   "source": [
    "help(frase.strip)"
   ]
  },
  {
   "cell_type": "markdown",
   "metadata": {
    "slideshow": {
     "slide_type": "slide"
    }
   },
   "source": [
    "### Nomes das variáveis:\n",
    "\n",
    "* Podem ter letras (maiúsculas e minúsculas), números, underscores;\n",
    "* Não podem começar com números\n",
    "* Devemos evitar algumas palavras: "
   ]
  },
  {
   "cell_type": "code",
   "execution_count": null,
   "metadata": {
    "slideshow": {
     "slide_type": "notes"
    }
   },
   "outputs": [],
   "source": [
    "import keyword\n",
    "print(keyword.kwlist)"
   ]
  },
  {
   "cell_type": "markdown",
   "metadata": {
    "slideshow": {
     "slide_type": "slide"
    }
   },
   "source": [
    "## 1.2 Operações básicas:\n",
    "\n",
    "A sintaxe pode ser diferentes daquela que vocês estão acostumadas: "
   ]
  },
  {
   "cell_type": "code",
   "execution_count": null,
   "metadata": {
    "slideshow": {
     "slide_type": "fragment"
    }
   },
   "outputs": [],
   "source": [
    "v0 = 5\n",
    "g = 9.81\n",
    "t = 0.6\n",
    "y = v0*t - g/2*t**2 \n",
    "\n",
    "print(\"\"\"No instante t = %g s, uma bola com velocidade inicial %g m/s\n",
    "se encontra na altura y = %g m \"\"\" % (t,v0,y))"
   ]
  },
  {
   "cell_type": "code",
   "execution_count": null,
   "metadata": {},
   "outputs": [],
   "source": [
    "\"\"\" Aladin, \n",
    "vc é legal\n",
    "\"\"\""
   ]
  },
  {
   "cell_type": "markdown",
   "metadata": {
    "slideshow": {
     "slide_type": "slide"
    }
   },
   "source": [
    "### Outras operações:"
   ]
  },
  {
   "cell_type": "code",
   "execution_count": null,
   "metadata": {
    "slideshow": {
     "slide_type": "fragment"
    }
   },
   "outputs": [],
   "source": [
    "26 % 5"
   ]
  },
  {
   "cell_type": "code",
   "execution_count": null,
   "metadata": {
    "slideshow": {
     "slide_type": "fragment"
    }
   },
   "outputs": [],
   "source": [
    "15 // 2"
   ]
  },
  {
   "cell_type": "code",
   "execution_count": null,
   "metadata": {
    "slideshow": {
     "slide_type": "fragment"
    }
   },
   "outputs": [],
   "source": [
    "15 / 2"
   ]
  },
  {
   "cell_type": "markdown",
   "metadata": {
    "slideshow": {
     "slide_type": "slide"
    }
   },
   "source": [
    "### Operações lógicas:"
   ]
  },
  {
   "cell_type": "code",
   "execution_count": null,
   "metadata": {
    "slideshow": {
     "slide_type": "fragment"
    }
   },
   "outputs": [],
   "source": [
    "7.5 == 15/2"
   ]
  },
  {
   "cell_type": "code",
   "execution_count": null,
   "metadata": {
    "slideshow": {
     "slide_type": "fragment"
    }
   },
   "outputs": [],
   "source": [
    "10 > np.pi"
   ]
  },
  {
   "cell_type": "code",
   "execution_count": null,
   "metadata": {
    "slideshow": {
     "slide_type": "fragment"
    }
   },
   "outputs": [],
   "source": [
    "5 >= 5  "
   ]
  },
  {
   "cell_type": "code",
   "execution_count": null,
   "metadata": {
    "slideshow": {
     "slide_type": "fragment"
    }
   },
   "outputs": [],
   "source": [
    "7 != 42"
   ]
  },
  {
   "cell_type": "markdown",
   "metadata": {
    "slideshow": {
     "slide_type": "slide"
    }
   },
   "source": [
    "### E todo o restante das operações?\n",
    "\n",
    "Digamos que queiramos resolver a equação de segundo grau \n",
    "\n",
    "$ -5x^2 + 2x + 8 = 0 $\n",
    "\n",
    "usando a fórmula de Bhaskara\n",
    "\n",
    "$ x = \\frac{-b \\pm \\sqrt{\\Delta}}{2a}$\n",
    "\n",
    "onde\n",
    "\n",
    "$\\Delta = b^2 - 4 a c$"
   ]
  },
  {
   "cell_type": "markdown",
   "metadata": {
    "slideshow": {
     "slide_type": "slide"
    }
   },
   "source": [
    "Precisamos da função raiz quadrada que deve ser algo como `sqrt()`. \n",
    "\n",
    "* Primeira opção: importar o módulo `math`:\n",
    "```python\n",
    "import math\n",
    "```\n",
    "* Segunda opção: importar somente a função necessária\n",
    "```python\n",
    "from math import sqrt\n",
    "```\n",
    "* Terceira opção: importar tudo o que tem em `math`:\n",
    "```python\n",
    "from math import *\n",
    "```"
   ]
  },
  {
   "cell_type": "code",
   "execution_count": null,
   "metadata": {
    "slideshow": {
     "slide_type": "slide"
    }
   },
   "outputs": [],
   "source": [
    "import math\n",
    "\n",
    "# -5*x**2 + 2*x + 8 = 0\n",
    "a = -5\n",
    "b = 2\n",
    "c = 8\n",
    "\n",
    "Delta = b**2 - 4 * a * c\n",
    "\n",
    "x1 = (-b + math.sqrt(Delta))/(2*a)\n",
    "\n",
    "x2 = (-b - math.sqrt(Delta))/(2*a)\n",
    "\n",
    "print(\"As raízes da equação são x1 = %g + %gi e x2 = %g + %gi\" % (x1.real, x1.imag, x2.real, x2.imag))"
   ]
  },
  {
   "cell_type": "code",
   "execution_count": null,
   "metadata": {
    "slideshow": {
     "slide_type": "slide"
    }
   },
   "outputs": [],
   "source": [
    "# 5*x**2 + 2*x + 8 = 0\n",
    "a = 5\n",
    "b = 2\n",
    "c = 8\n",
    "\n",
    "Delta = b**2 - 4 * a * c\n",
    "\n",
    "x1 = (-b + Delta**(1/2))/(2*a)\n",
    "\n",
    "x2 = (-b - Delta**(1/2))/(2*a)\n",
    "\n",
    "print(\"As raízes da equação são x1 = %g + %gi e x2 = %g + %gi\" % (x1.real, x1.imag, x2.real, x2.imag))"
   ]
  },
  {
   "cell_type": "markdown",
   "metadata": {
    "slideshow": {
     "slide_type": "slide"
    }
   },
   "source": [
    "### Usando \"apelidos\":\n",
    "\n",
    "Existe ainda uma quarta maneira de se importar módulos e/ou funções. Já vimos esse caso no exemplo do gráfico da função seno: \n",
    "\n",
    "```python\n",
    "import numpy as np\n",
    "import matplotlib.pyplot as plt\n",
    "\n",
    "x = np.linspace(0, 2*np.pi, 100)\n",
    "y = (np.sin(x))**2\n",
    "\n",
    "plt.plot(x,y)\n",
    "plt.show()\n",
    "```"
   ]
  },
  {
   "cell_type": "markdown",
   "metadata": {
    "slideshow": {
     "slide_type": "slide"
    }
   },
   "source": [
    "## 1.3 Listas\n",
    "\n",
    "Listas são **containers** de outros objetos que, por sua vez, são acessíveis via índice: "
   ]
  },
  {
   "cell_type": "code",
   "execution_count": null,
   "metadata": {
    "slideshow": {
     "slide_type": "fragment"
    }
   },
   "outputs": [],
   "source": [
    "# Indexação:\n",
    "my_list = [1, 2, 3, 4]\n",
    "print(my_list[1])"
   ]
  },
  {
   "cell_type": "code",
   "execution_count": null,
   "metadata": {
    "slideshow": {
     "slide_type": "fragment"
    }
   },
   "outputs": [],
   "source": [
    "# 'Soma' de listas:\n",
    "other_list = [5, 6, 7, 8]\n",
    "print(my_list + other_list)"
   ]
  },
  {
   "cell_type": "code",
   "execution_count": null,
   "metadata": {
    "slideshow": {
     "slide_type": "slide"
    }
   },
   "outputs": [],
   "source": [
    "# Atribuição para listas:\n",
    "my_list[0] = 42\n",
    "my_list[-1] = 5\n",
    "# print(my_list)\n",
    "\n",
    "nova = list(range(101))\n",
    "\n",
    "# 'Slicing' de listas:\n",
    "fatia_1 = nova[0::2]\n",
    "fatia_1_inv = fatia_1[::-1]\n",
    "fatia_2 = nova[1:-1:]\n",
    "\n",
    "\n",
    "# print(fatia_1)\n",
    "# print(fatia_1_inv)\n",
    "print(fatia_2)"
   ]
  },
  {
   "cell_type": "code",
   "execution_count": null,
   "metadata": {
    "slideshow": {
     "slide_type": "slide"
    }
   },
   "outputs": [],
   "source": [
    "# Podemos ter diferentes 'types' na mesma lista\n",
    "crazy_list = ['spam', 42, ['ni', 'ni', 'ni'], 3.141592]\n",
    "\n",
    "# Qual será o output da linha a seguir: \n",
    "print(crazy_list[2][0][0])\n"
   ]
  },
  {
   "cell_type": "code",
   "execution_count": null,
   "metadata": {
    "slideshow": {
     "slide_type": "slide"
    }
   },
   "outputs": [],
   "source": [
    "fatia_2 = [2, 3]\n",
    "length = len(fatia_2)\n",
    "print(length)\n",
    "\n",
    "fatia_2.append(1977)\n",
    "print(fatia_2)\n",
    "\n",
    "fatia_2.insert(1, 1954)\n",
    "print(fatia_2)\n",
    "\n",
    "fatia_2.sort()\n",
    "print(fatia_2)"
   ]
  },
  {
   "cell_type": "code",
   "execution_count": null,
   "metadata": {
    "slideshow": {
     "slide_type": "slide"
    }
   },
   "outputs": [],
   "source": [
    "# range : note a necessidade de converter o resultado para lista usando a função \"list\"\n",
    "print(range(10))\n",
    "\n",
    "lista_cresc = list(range(10))\n",
    "print(lista_cresc)\n",
    "\n",
    "lista_pares = list(range(0,10,2))\n",
    "print(lista_pares)\n",
    "\n",
    "lista_maior_pares = list(range(10, 22, 2))\n",
    "print(lista_maior_pares)"
   ]
  },
  {
   "cell_type": "markdown",
   "metadata": {
    "slideshow": {
     "slide_type": "slide"
    }
   },
   "source": [
    "## 1.4 Laços (loops): `while` & `for`\n",
    "\n",
    "\n",
    "Repetições geralmente são chatas. Pra isso temos computadores!\n",
    "\n",
    "Uma ideia: loops; Dois mecanismos para executar esses tais loop's:\n",
    "* `while`\n",
    "* `for`\n",
    "\n",
    "Vimos anteriormente que não temos uma soma termo a termo (elementwise) entre listas;\n",
    "\n",
    "Como fazer uma soma desse tipo (sem apelar para um 'pacote')?"
   ]
  },
  {
   "cell_type": "markdown",
   "metadata": {
    "slideshow": {
     "slide_type": "slide"
    }
   },
   "source": [
    "### 1.4.1 Expressões Booleanas:\n",
    "\n",
    "```python\n",
    "cont == N # Igualdade\n",
    "cont != N # Diferença\n",
    "cont <= N # Menor ou igual\n",
    "cont >= N # Maior ou igual\n",
    "cont >  N # Maior\n",
    "cont <  N # Menor\n",
    "\n",
    "```"
   ]
  },
  {
   "cell_type": "markdown",
   "metadata": {
    "slideshow": {
     "slide_type": "slide"
    }
   },
   "source": [
    "### 1.4.2 Laço `while`:\n",
    "\n",
    "Depende de uma condição (expressão Booleana) e de uma atualização:"
   ]
  },
  {
   "cell_type": "code",
   "execution_count": null,
   "metadata": {
    "slideshow": {
     "slide_type": "-"
    }
   },
   "outputs": [],
   "source": [
    "'''\n",
    "while style:\n",
    "'''\n",
    "x = [1, 2, 8]\n",
    "y = [10.0, 20, 80]\n",
    "\n",
    "count = 0\n",
    "\n",
    "while count < len(x):\n",
    "    x[count] = x[count] + y[count]\n",
    "    count += 1\n",
    "\n",
    "print(x)"
   ]
  },
  {
   "cell_type": "markdown",
   "metadata": {
    "slideshow": {
     "slide_type": "slide"
    }
   },
   "source": [
    "### 1.4.3 Laço `for`:\n",
    "\n",
    "Depende de um objeto que possa ser **iterado**: Exemplos de tais objetos podemos citar\n",
    "* `list`\n",
    "* `string`\n",
    "* `dict` (pelas chaves)\n",
    "* `tuple`\n",
    "* `numpy array`"
   ]
  },
  {
   "cell_type": "code",
   "execution_count": null,
   "metadata": {
    "slideshow": {
     "slide_type": "-"
    }
   },
   "outputs": [],
   "source": [
    "'''\n",
    "For style:\n",
    "'''\n",
    "x = [10, 21, 82]\n",
    "y = [10.0, 20, 80]\n",
    "\n",
    "for i in range(len(x)):\n",
    "    x[i] += y[i]\n",
    "    \n",
    "print(x)"
   ]
  },
  {
   "cell_type": "code",
   "execution_count": null,
   "metadata": {
    "slideshow": {
     "slide_type": "skip"
    }
   },
   "outputs": [],
   "source": [
    "Supermarket = {\"Arroz\" : 5, \"Feijão\" : 2}\n",
    "\n",
    "for i in Supermarket:\n",
    "    print(i, Supermarket[i])\n"
   ]
  },
  {
   "cell_type": "markdown",
   "metadata": {
    "slideshow": {
     "slide_type": "slide"
    }
   },
   "source": [
    "### Exercício 1:\n",
    "\n",
    "Escreva um laço (`for` e/ou `while`) para fazer uma tabela de multiplicação, estilo *tabuada*, de um número `N` e uma lista `L`. Exemplo, para `N = 7` e `L = [4, 5, 6]` queremos o seguinte *output*:\n",
    "\n",
    "$$\n",
    "\\begin{align}\n",
    "7 \\times 4 &= 28\\\\\n",
    "7 \\times 5 &= 35\\\\\n",
    "7 \\times 6 &= 42\n",
    "\\end{align}\n",
    "$$\n",
    "\n"
   ]
  },
  {
   "cell_type": "code",
   "execution_count": null,
   "metadata": {
    "slideshow": {
     "slide_type": "subslide"
    }
   },
   "outputs": [],
   "source": [
    "\"Solução; while: \"\n",
    "\n",
    "N = 72\n",
    "L = [7,5,12,2,8]\n",
    "\n",
    "cont = 0\n",
    "\n",
    "while cont < len(L):\n",
    "    R = N * L[cont]\n",
    "    print(\"%2i x %2i = %3i \" % (N, L[cont], R))\n",
    "    cont += 1"
   ]
  },
  {
   "cell_type": "code",
   "execution_count": null,
   "metadata": {
    "slideshow": {
     "slide_type": "subslide"
    }
   },
   "outputs": [],
   "source": [
    "\"Solução; for:\"\n",
    "\n",
    "N = 42\n",
    "L = list(range(1,20,2))\n",
    "\n",
    "for num in L:\n",
    "    R = num * N\n",
    "    print(\"%2i x %2i = %3i \" % (N, num, R))\n"
   ]
  },
  {
   "cell_type": "markdown",
   "metadata": {
    "slideshow": {
     "slide_type": "slide"
    }
   },
   "source": [
    "### Exercício 2:\n",
    "\n",
    "Faça uma tabela de conversão de temperaturas de graus Celsius para graus Fahrenheint, pequise no google a fórmula de conversão. Entrada: uma lista com temperaturas em Celsius; Saída: Tabela formatada ao seu gosto."
   ]
  },
  {
   "cell_type": "markdown",
   "metadata": {
    "slideshow": {
     "slide_type": "subslide"
    }
   },
   "source": [
    "### Solução:\n",
    "\n",
    "A fórmula para conversão entre temperaturas em graus Celsius e Fahrenheint é dada por:\n",
    "\n",
    "$$ F = \\left(C \\times \\frac{9}{5} \\right) +32 $$"
   ]
  },
  {
   "cell_type": "code",
   "execution_count": null,
   "metadata": {
    "slideshow": {
     "slide_type": "fragment"
    }
   },
   "outputs": [],
   "source": [
    "'''Solução'''\n",
    "\n",
    "Celsius = [-20, -10, 0, 20, 30, 45]\n",
    "\n",
    "print(\"%5s %5s\" % (\"C\", \"F\"))\n",
    "print(7* \"--\")\n",
    "for T in Celsius:\n",
    "    F = (T * 9/5) + 32\n",
    "    print(\"%5i %5i\" % (T,F))"
   ]
  },
  {
   "cell_type": "markdown",
   "metadata": {
    "slideshow": {
     "slide_type": "slide"
    }
   },
   "source": [
    "### Exercício 3 (desafio):\n",
    "\n",
    "Faça um pequeno *script* para imprimir `N` números da famosa sequência de Fibonacci. Digamos que `N = 10`, assim, o *output* será:\n",
    "\n",
    "$$1, ~1, ~2, ~3, ~5, ~8, ~13, ~21, ~34, ~55 $$\n",
    "\n",
    "**Não precisa imprimir lado à lado e com vírgulas.**"
   ]
  },
  {
   "cell_type": "code",
   "execution_count": null,
   "metadata": {
    "slideshow": {
     "slide_type": "subslide"
    }
   },
   "outputs": [],
   "source": [
    "'''\n",
    "Exemplo simples: Digamos que queiramos escrever a série de Fibonacci até o termo N \n",
    "'''\n",
    "N = int(input(\"Digite N: \") or 5) # Pede ao usuário um inteiro\n",
    "cont = 1\n",
    "fib = [0,1]\n",
    "\n",
    "while cont <= N:\n",
    "    if cont != N:\n",
    "        print(fib[1], end = \", \")\n",
    "    else:\n",
    "        print(fib[1], end = \".\")\n",
    "    aux = fib[0]\n",
    "    fib[0] = fib[1]\n",
    "    fib[1] += aux\n",
    "    cont += 1"
   ]
  },
  {
   "cell_type": "markdown",
   "metadata": {
    "slideshow": {
     "slide_type": "slide"
    }
   },
   "source": [
    "## 1.5 Funções e programação funcional:\n",
    "\n",
    "Em Python, e em todas as linguagem de programação, funções são **instruções** que podem ser chamadas em qualquer parte do nosso código e quantas vez forem necessárias sem termos que escrever as mesmas instruções mais de uma vez.\n",
    "\n",
    "A anatomia de uma função em Python segue o seguinte esboço:\n",
    "\n",
    "```python\n",
    "def nome_da_func(arg1, arg2):\n",
    "    # instruções\n",
    "    return resultado\n",
    "```\n",
    "\n",
    "Vejamos um exemplo conhecido nosso: Uma função que converte graus Celsius em graus Fahrenheit:"
   ]
  },
  {
   "cell_type": "code",
   "execution_count": null,
   "metadata": {
    "slideshow": {
     "slide_type": "fragment"
    }
   },
   "outputs": [],
   "source": [
    "def F(C):\n",
    "    \"Converte Celsius em Fahrenheit.\"\n",
    "    return (C * 9/5) +32\n",
    "\n",
    "print(F(22))"
   ]
  },
  {
   "cell_type": "code",
   "execution_count": null,
   "metadata": {},
   "outputs": [],
   "source": [
    "F(20)"
   ]
  },
  {
   "cell_type": "markdown",
   "metadata": {},
   "source": [
    "### 1.5.1 Compreensão de Listas:\n",
    "\n",
    "Muitas vezes temos que pegar uma lista `L` calcular algo para cada elemento (uma função por exemplo) e com os resultados gerar um nova lista. Podemos fazer isso da seguinte forma\n",
    "\n",
    "```python\n",
    "C_list = list(range(0,101,10))\n",
    "\n",
    "F_list = [F(C) for C in C_list]\n",
    "```"
   ]
  },
  {
   "cell_type": "code",
   "execution_count": null,
   "metadata": {},
   "outputs": [],
   "source": []
  },
  {
   "cell_type": "code",
   "execution_count": 1,
   "metadata": {
    "slideshow": {
     "slide_type": "subslide"
    }
   },
   "outputs": [
    {
     "name": "stdout",
     "output_type": "stream",
     "text": [
      "[0, 10, 20, 30, 40, 50, 60, 70, 80, 90, 100]\n",
      "[32.0, 50.0, 68.0, 86.0, 104.0, 122.0, 140.0, 158.0, 176.0, 194.0, 212.0]\n"
     ]
    }
   ],
   "source": [
    "def F(C):\n",
    "    return (C * 9/5) + 32\n",
    "\n",
    "C_list = list(range(0,101,10))\n",
    "F_list = [F(C) for C in C_list]\n",
    "\n",
    "print(C_list)\n",
    "print(F_list)"
   ]
  },
  {
   "cell_type": "code",
   "execution_count": 2,
   "metadata": {},
   "outputs": [
    {
     "data": {
      "text/plain": [
       "[2, 4, 6]"
      ]
     },
     "execution_count": 2,
     "metadata": {},
     "output_type": "execute_result"
    }
   ],
   "source": [
    "\"\"\"\n",
    "Nem sempre é necessária a definição de uma função.\n",
    "\n",
    "Por exemplo, o código abaixo multiplica todos os termos da lista por '2':\n",
    "\"\"\"\n",
    "\n",
    "a = [1,2,3]\n",
    "\n",
    "a = [2* a[i] for i in range(len(a))]\n",
    "a"
   ]
  },
  {
   "cell_type": "markdown",
   "metadata": {
    "slideshow": {
     "slide_type": "slide"
    }
   },
   "source": [
    "### 1.5.2 Variáveis globais e locais:\n",
    "\n",
    "* Funções são importantes porque quebram o código blocos especializados em tarefas repetitivas;\n",
    "\n",
    "* Mas uma outra característica das funções também deve ser destacada: elas possuem o próprio conjunto de nomes;\n",
    "\n",
    "Vejamos um exemplo:"
   ]
  },
  {
   "cell_type": "code",
   "execution_count": 3,
   "metadata": {
    "slideshow": {
     "slide_type": "fragment"
    }
   },
   "outputs": [
    {
     "name": "stdout",
     "output_type": "stream",
     "text": [
      "150\n",
      "160\n",
      "100\n"
     ]
    }
   ],
   "source": [
    "a = 100  # global\n",
    "b = 50\n",
    "\n",
    "def minha_func(x): \n",
    "    return a*x  + b # apenas global\n",
    "\n",
    "\n",
    "def minha_func2(x):\n",
    "    a = 110 # local \n",
    "    return a*x + b # global e local\n",
    "\n",
    "print(minha_func(1))\n",
    "\n",
    "c = minha_func2(1)\n",
    "\n",
    "print(c)\n",
    "print(a)"
   ]
  },
  {
   "cell_type": "markdown",
   "metadata": {
    "slideshow": {
     "slide_type": "slide"
    }
   },
   "source": [
    "* Uma função não pode alterar, geralmente, uma variável externa;\n",
    "* Uma variável interna à função, por outro lado, não pode ser sequer acessada de fora:  "
   ]
  },
  {
   "cell_type": "code",
   "execution_count": null,
   "metadata": {
    "slideshow": {
     "slide_type": "-"
    }
   },
   "outputs": [],
   "source": [
    "def outra_func(x):\n",
    "    w = 2*x\n",
    "    return w + 1\n",
    "\n",
    "y = 5\n",
    "z = outra_func(y)\n",
    "print(w)"
   ]
  },
  {
   "cell_type": "code",
   "execution_count": 4,
   "metadata": {},
   "outputs": [
    {
     "name": "stdout",
     "output_type": "stream",
     "text": [
      "[10]\n"
     ]
    }
   ],
   "source": [
    "lista = []\n",
    "\n",
    "def apendix(x):\n",
    "    lista.append(x)\n",
    "\n",
    "apendix(10)\n",
    "print(lista)"
   ]
  },
  {
   "cell_type": "markdown",
   "metadata": {},
   "source": [
    "Pode-se alterar varáveis globais de dentro de funções via explícita declaração de que tal variável é global:"
   ]
  },
  {
   "cell_type": "code",
   "execution_count": 5,
   "metadata": {},
   "outputs": [
    {
     "name": "stdout",
     "output_type": "stream",
     "text": [
      "100\n",
      "50\n"
     ]
    }
   ],
   "source": [
    "a = 100\n",
    "\n",
    "def minha_func3(x):\n",
    "    global a\n",
    "    a = 50\n",
    "    return a * x\n",
    "\n",
    "print(a)\n",
    "\n",
    "b = minha_func3(1)\n",
    "\n",
    "print(a)"
   ]
  },
  {
   "cell_type": "markdown",
   "metadata": {
    "slideshow": {
     "slide_type": "slide"
    }
   },
   "source": [
    "### 1.5.3 Mais de um argumento:\n",
    "\n",
    "Podemos, obviamente, ter funções que exigem mais de um argumento. Podemos criar tais funções com valores padrão para alguns dos argumentos, assim não precisaremos passar todos os argumentos todas as vezes que chamarmos a função.  "
   ]
  },
  {
   "cell_type": "code",
   "execution_count": 6,
   "metadata": {
    "slideshow": {
     "slide_type": "fragment"
    }
   },
   "outputs": [
    {
     "name": "stdout",
     "output_type": "stream",
     "text": [
      "7\n",
      "11\n",
      "9\n",
      "16\n"
     ]
    }
   ],
   "source": [
    "def quadratica(x, a=1, b=1, c=1):\n",
    "    return a*x**2 + b*x + c\n",
    "\n",
    "print(quadratica(2))\n",
    "print(quadratica(2, 2))\n",
    "print(quadratica(2, b=2))\n",
    "print(quadratica(2, c=10))"
   ]
  },
  {
   "cell_type": "code",
   "execution_count": null,
   "metadata": {},
   "outputs": [],
   "source": []
  },
  {
   "cell_type": "markdown",
   "metadata": {
    "slideshow": {
     "slide_type": "slide"
    }
   },
   "source": [
    "### 1.5.4 Funções anônimas (lambda):\n",
    "\n",
    "Algumas vezes, ao programar, precisamos definir uma função simples e de forma o mais concisa possível. Às vezes, tais funções nem precisam ter nomes, ou seja, elas podem ser **anônimas**. \n",
    "\n",
    "Situações em que precisamos usar uma função como argumento de outra função e que depois de utilizada, tal função argumento, pode ser descartada são exemplos paradigmáticos.   \n",
    "\n",
    "Vamos ver mais um jeito de se definir uma função que será útil em casos como o descrito:"
   ]
  },
  {
   "cell_type": "markdown",
   "metadata": {
    "slideshow": {
     "slide_type": "slide"
    }
   },
   "source": [
    "Digamos que se deseje a partir de uma lista produzir uma nova, aplicando uma função a cada elemento da lista.\n",
    "\n",
    "Podemos fazer isso com a função `map`, nativa de Python, da seguinte forma:\n",
    "\n",
    "```python\n",
    "nova_lista = list(map(func, lista_velha))\n",
    "```"
   ]
  },
  {
   "cell_type": "code",
   "execution_count": 7,
   "metadata": {
    "slideshow": {
     "slide_type": "fragment"
    }
   },
   "outputs": [
    {
     "name": "stdout",
     "output_type": "stream",
     "text": [
      "[0, 2, 4, 6, 8, 10, 12]\n"
     ]
    }
   ],
   "source": [
    "lista_1 = [0, 1, 2, 3, 4, 5, 6]\n",
    "\n",
    "def dobro(x):\n",
    "    return 2*x\n",
    "\n",
    "lista_2 = list(map(dobro,lista_1))\n",
    "print(lista_2)"
   ]
  },
  {
   "cell_type": "markdown",
   "metadata": {
    "slideshow": {
     "slide_type": "fragment"
    }
   },
   "source": [
    "Agora, com o uso das funções anônimas podemos obter o mesmo resultado de forma mais...elegante: "
   ]
  },
  {
   "cell_type": "code",
   "execution_count": 8,
   "metadata": {
    "slideshow": {
     "slide_type": "fragment"
    }
   },
   "outputs": [
    {
     "name": "stdout",
     "output_type": "stream",
     "text": [
      "[0, 4, 8, 12]\n"
     ]
    }
   ],
   "source": [
    "lista_1 = [[0,1],[2,3],[4,5],[6,5]]\n",
    "\n",
    "lista_2 = list(map(lambda x: 2*x[0], lista_1))\n",
    "\n",
    "print(lista_2)"
   ]
  },
  {
   "cell_type": "markdown",
   "metadata": {
    "slideshow": {
     "slide_type": "slide"
    }
   },
   "source": [
    "**Funções lambda**, nem sempre precisam ser anônimas:"
   ]
  },
  {
   "cell_type": "code",
   "execution_count": null,
   "metadata": {
    "slideshow": {
     "slide_type": "fragment"
    }
   },
   "outputs": [],
   "source": [
    "f = lambda y, x: y**x\n",
    "f(2,3)"
   ]
  },
  {
   "cell_type": "code",
   "execution_count": null,
   "metadata": {},
   "outputs": [],
   "source": []
  },
  {
   "cell_type": "markdown",
   "metadata": {
    "slideshow": {
     "slide_type": "slide"
    }
   },
   "source": [
    "## 1.6 Condições e controle de fluxo:"
   ]
  },
  {
   "cell_type": "code",
   "execution_count": 13,
   "metadata": {},
   "outputs": [
    {
     "name": "stdout",
     "output_type": "stream",
     "text": [
      "Digite um número: 10\n",
      "par\n",
      "uau\n"
     ]
    }
   ],
   "source": [
    "N = int(input(\"Digite um número: \"))\n",
    "\n",
    "if N % 2 == 0:\n",
    "    if N == 0:\n",
    "        print(\"nulo\")\n",
    "    else:\n",
    "        print(\"par\")\n",
    "if N % 2 == 0:\n",
    "    print(\"uau\")\n",
    "else:\n",
    "    print(\"ímpar\")"
   ]
  },
  {
   "cell_type": "markdown",
   "metadata": {},
   "source": [
    "### Repositório de exercícios para treinar:\n",
    "\n",
    "Como comentado em aula, o site [Euler Project](https://projecteuler.net/) é uma excelente fonte de exercícios numéricos. Depois de se registrar, você terá acesso ao exercícios. Mas você só terá acesso ao fórum referente a cada questão após solucionar a respectiva questão.   "
   ]
  },
  {
   "cell_type": "code",
   "execution_count": null,
   "metadata": {},
   "outputs": [],
   "source": []
  },
  {
   "cell_type": "code",
   "execution_count": null,
   "metadata": {},
   "outputs": [],
   "source": []
  },
  {
   "cell_type": "markdown",
   "metadata": {
    "slideshow": {
     "slide_type": "slide"
    }
   },
   "source": [
    "## 1.7 Programação orientada a objetos (OOP):"
   ]
  },
  {
   "cell_type": "markdown",
   "metadata": {},
   "source": [
    "### Classe:"
   ]
  },
  {
   "cell_type": "code",
   "execution_count": 33,
   "metadata": {},
   "outputs": [
    {
     "name": "stdout",
     "output_type": "stream",
     "text": [
      "[7.0, 9.0, 17.0]\n",
      "None\n"
     ]
    }
   ],
   "source": [
    "class Vetor:\n",
    "    def __init__(self, x, y, z):\n",
    "        self.x = x\n",
    "        self.y = y\n",
    "        self.z = z\n",
    "    \n",
    "    def __add__(self, other):\n",
    "        rx = self.x + other.x\n",
    "        ry = self.y + other.y\n",
    "        rz = self.z + other.z\n",
    "        return Vetor(rx, ry, rz)\n",
    "    \n",
    "    def __repr__(self):\n",
    "         return str(print([self.x, self.y, self.z]))\n",
    "\n",
    "v = Vetor(2.,3.,10.)\n",
    "u = Vetor(5.,6.,7.)\n",
    "w = u + v\n",
    "\n",
    "print(w)"
   ]
  },
  {
   "cell_type": "code",
   "execution_count": 20,
   "metadata": {
    "slideshow": {
     "slide_type": "slide"
    }
   },
   "outputs": [],
   "source": [
    "class FuncHoraria:\n",
    "    def __init__(self, x0, v0, a):\n",
    "        self.x0 = x0\n",
    "        self.v0 = v0\n",
    "        self.a  = a\n",
    "    \n",
    "    def __call__(self, t):\n",
    "        x0, v0, a = self.x0, self.v0, self.a\n",
    "        return x0 + v0*t + (a/2) * t**2"
   ]
  },
  {
   "cell_type": "code",
   "execution_count": 21,
   "metadata": {},
   "outputs": [],
   "source": [
    "f = FuncHoraria(0, 5, -10)"
   ]
  },
  {
   "cell_type": "code",
   "execution_count": 23,
   "metadata": {},
   "outputs": [
    {
     "data": {
      "text/plain": [
       "1.25"
      ]
     },
     "execution_count": 23,
     "metadata": {},
     "output_type": "execute_result"
    }
   ],
   "source": [
    "f(0.5)"
   ]
  },
  {
   "cell_type": "markdown",
   "metadata": {
    "slideshow": {
     "slide_type": "slide"
    }
   },
   "source": [
    "## Exemplos e exercícios:\n",
    "\n",
    "Os exemplos abaixo foram retirados do excelente curso de Python acessível pelo link https://lectures.quantecon.org/py/python_oop.html."
   ]
  },
  {
   "cell_type": "markdown",
   "metadata": {
    "slideshow": {
     "slide_type": "skip"
    }
   },
   "source": [
    "### Exercício 1 Quantecon (OOP II):"
   ]
  },
  {
   "cell_type": "code",
   "execution_count": null,
   "metadata": {
    "slideshow": {
     "slide_type": "skip"
    }
   },
   "outputs": [],
   "source": [
    "class ECDF:\n",
    "    def __init__(self, sample):\n",
    "        self.observations = sample\n",
    "        \n",
    "    def __call__(self, x):\n",
    "        sample = self.observations\n",
    "        n = len(sample)\n",
    "        sample_filtrada = list(filter(lambda y : y < x, sample))\n",
    "        F_x = (1/n) * len(sample_filtrada)\n",
    "        return F_x\n",
    "        "
   ]
  },
  {
   "cell_type": "code",
   "execution_count": null,
   "metadata": {
    "slideshow": {
     "slide_type": "skip"
    }
   },
   "outputs": [],
   "source": [
    "from random import uniform\n",
    "\n",
    "samples = [uniform(0, 1) for i in range(10)]\n",
    "\n",
    "F = ECDF(samples)\n",
    "F(0.5)\n"
   ]
  },
  {
   "cell_type": "code",
   "execution_count": null,
   "metadata": {
    "slideshow": {
     "slide_type": "skip"
    }
   },
   "outputs": [],
   "source": [
    "F.observations = [uniform(0, 1) for i in range(1000)]\n",
    "F(0.5)"
   ]
  },
  {
   "cell_type": "code",
   "execution_count": null,
   "metadata": {
    "slideshow": {
     "slide_type": "skip"
    }
   },
   "outputs": [],
   "source": [
    "L_teste = [1,2,3,-4,-5,6,7,-8]\n",
    "L_menor = list(filter(lambda x: x<0, L_teste))\n",
    "print(L_menor)"
   ]
  },
  {
   "cell_type": "markdown",
   "metadata": {},
   "source": [
    "### Exercício 2 Quantecon (OOP II):"
   ]
  },
  {
   "cell_type": "code",
   "execution_count": null,
   "metadata": {},
   "outputs": [],
   "source": [
    "class Polynomial:\n",
    "    def __init__(self, coeficients):\n",
    "        self.coeficients = coeficients\n",
    "    \n",
    "    def __call__(self, x):\n",
    "        P_x = 0\n",
    "        for i in range(len(self.coeficients)):\n",
    "            P_x += self.coeficients[i] * x**i        \n",
    "        return P_x\n",
    "    \n",
    "    def diff(self):\n",
    "        aux = self.coeficients\n",
    "        aux.pop(0)\n",
    "        new = [(i+1) * aux[i] for i in range(len(aux))]\n",
    "        self.coeficients = new"
   ]
  },
  {
   "cell_type": "code",
   "execution_count": null,
   "metadata": {},
   "outputs": [],
   "source": [
    "P = Polynomial([1,0,4,8,2])\n",
    "print(P(2))\n",
    "\n",
    "P.diff()\n",
    "print(P(2))\n",
    "P.coeficients"
   ]
  },
  {
   "cell_type": "code",
   "execution_count": null,
   "metadata": {},
   "outputs": [],
   "source": [
    "A = [1,2,3]\n",
    "A.pop(0)\n",
    "A"
   ]
  },
  {
   "cell_type": "code",
   "execution_count": null,
   "metadata": {},
   "outputs": [],
   "source": []
  }
 ],
 "metadata": {
  "kernelspec": {
   "display_name": "Python 3",
   "language": "python",
   "name": "python3"
  },
  "language_info": {
   "codemirror_mode": {
    "name": "ipython",
    "version": 3
   },
   "file_extension": ".py",
   "mimetype": "text/x-python",
   "name": "python",
   "nbconvert_exporter": "python",
   "pygments_lexer": "ipython3",
   "version": "3.7.1"
  }
 },
 "nbformat": 4,
 "nbformat_minor": 2
}
