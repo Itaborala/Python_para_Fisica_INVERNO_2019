{
 "cells": [
  {
   "cell_type": "markdown",
   "metadata": {
    "slideshow": {
     "slide_type": "slide"
    }
   },
   "source": [
    "# Numpy & Matplotlib\n",
    "\n",
    "* **Numpy**: principal pacote de cálculo numérico usado em Python;\n",
    "* **Matplotlib**: visualização e produção de gráficos"
   ]
  },
  {
   "cell_type": "markdown",
   "metadata": {
    "slideshow": {
     "slide_type": "slide"
    }
   },
   "source": [
    "## Básico de Numpy \n",
    "\n",
    "Encontramos alguns problemas referente à **velocidade** de processamento quando queremos resolver problemas relativamente simples:\n",
    "\n",
    "* Somar listas termo a termo:\n",
    "    ```python\n",
    "    A = [1, 2, 3]\n",
    "    B = [4, 5, 6]\n",
    "    A + B ?\n",
    "    ```\n",
    "* Existem **sim** opções sem a necessidade de `import`:\n",
    "\n",
    "**Exercício:** Implemente uma função (não *importe* nada) que tome duas listas de mesmo tamanho e retorne a lista resultante de uma soma termo à termo. Nós já vimos dois jeitos de se fazer isso, tente replicar um deles de memória. "
   ]
  },
  {
   "cell_type": "markdown",
   "metadata": {
    "slideshow": {
     "slide_type": "slide"
    }
   },
   "source": [
    "Existe um modo mais fácil de fazer isso, e muitas outras coisas, que é usando o pacote `numpy`:"
   ]
  },
  {
   "cell_type": "code",
   "execution_count": 2,
   "metadata": {
    "slideshow": {
     "slide_type": "fragment"
    }
   },
   "outputs": [],
   "source": [
    "# Por convenção usa-se o codinome \"np\"\n",
    "import numpy as np\n",
    "\n",
    "a = np.array([1,2,3,4])\n",
    "b = np.array([10,11,12,13])"
   ]
  },
  {
   "cell_type": "markdown",
   "metadata": {
    "slideshow": {
     "slide_type": "slide"
    }
   },
   "source": [
    "### Elemento a elemento:\n",
    "\n",
    "O cálculo com arrays executa por padrão operações elemento à elemento:"
   ]
  },
  {
   "cell_type": "code",
   "execution_count": 2,
   "metadata": {
    "slideshow": {
     "slide_type": "fragment"
    }
   },
   "outputs": [
    {
     "data": {
      "text/plain": [
       "array([11, 13, 15, 17])"
      ]
     },
     "execution_count": 2,
     "metadata": {},
     "output_type": "execute_result"
    }
   ],
   "source": [
    "a + b"
   ]
  },
  {
   "cell_type": "code",
   "execution_count": 3,
   "metadata": {
    "slideshow": {
     "slide_type": "fragment"
    }
   },
   "outputs": [
    {
     "data": {
      "text/plain": [
       "array([10, 22, 36, 52])"
      ]
     },
     "execution_count": 3,
     "metadata": {},
     "output_type": "execute_result"
    }
   ],
   "source": [
    "a * b"
   ]
  },
  {
   "cell_type": "code",
   "execution_count": 4,
   "metadata": {
    "slideshow": {
     "slide_type": "fragment"
    }
   },
   "outputs": [
    {
     "data": {
      "text/plain": [
       "array([0.1       , 0.18181818, 0.25      , 0.30769231])"
      ]
     },
     "execution_count": 4,
     "metadata": {},
     "output_type": "execute_result"
    }
   ],
   "source": [
    "a / b"
   ]
  },
  {
   "cell_type": "code",
   "execution_count": 5,
   "metadata": {
    "slideshow": {
     "slide_type": "fragment"
    }
   },
   "outputs": [
    {
     "data": {
      "text/plain": [
       "array([ 2.71828183,  7.3890561 , 20.08553692, 54.59815003])"
      ]
     },
     "execution_count": 5,
     "metadata": {},
     "output_type": "execute_result"
    }
   ],
   "source": [
    "np.exp(a)"
   ]
  },
  {
   "cell_type": "code",
   "execution_count": 6,
   "metadata": {},
   "outputs": [
    {
     "data": {
      "text/plain": [
       "array([ 11013.2329201 ,  29937.07086595,  81377.39571257, 221206.69600559])"
      ]
     },
     "execution_count": 6,
     "metadata": {},
     "output_type": "execute_result"
    }
   ],
   "source": [
    "np.cosh(b)"
   ]
  },
  {
   "cell_type": "markdown",
   "metadata": {
    "slideshow": {
     "slide_type": "slide"
    }
   },
   "source": [
    "### Mas não é só isso, claro\n",
    "\n",
    "Imagine escrever um código em duas linhas que toma a média de uma amostra de 1000 números aleatórios com distribuição uniforme:"
   ]
  },
  {
   "cell_type": "code",
   "execution_count": 7,
   "metadata": {
    "slideshow": {
     "slide_type": "fragment"
    }
   },
   "outputs": [
    {
     "data": {
      "text/plain": [
       "0.5121143021774055"
      ]
     },
     "execution_count": 7,
     "metadata": {},
     "output_type": "execute_result"
    }
   ],
   "source": [
    "x = np.random.uniform(0,1,1000)\n",
    "x.mean()"
   ]
  },
  {
   "cell_type": "markdown",
   "metadata": {
    "slideshow": {
     "slide_type": "fragment"
    }
   },
   "source": [
    "O que está pro detrás dessa rapidez são rotinas escritas em `C` e em `Fortran` para as quais o numpy faz a interface."
   ]
  },
  {
   "cell_type": "markdown",
   "metadata": {
    "slideshow": {
     "slide_type": "slide"
    }
   },
   "source": [
    "### Explorando um pouquinho:\n",
    "\n",
    "A coisa mais importante introduzida pelo `numpy` é, com certeza, o objeto do tipo `array`.\n",
    "\n",
    "Tais objetos são muito parecidos com listas de Python, com duas diferenças cruciais:\n",
    "* Todos os valores de uma array devem ter o **mesmo tipo**\n",
    "* Nem todos os tipos são possíveis: somente números e `True`'s e `False`'s"
   ]
  },
  {
   "cell_type": "code",
   "execution_count": 8,
   "metadata": {
    "slideshow": {
     "slide_type": "fragment"
    }
   },
   "outputs": [
    {
     "data": {
      "text/plain": [
       "numpy.ndarray"
      ]
     },
     "execution_count": 8,
     "metadata": {},
     "output_type": "execute_result"
    }
   ],
   "source": [
    "type(a)"
   ]
  },
  {
   "cell_type": "code",
   "execution_count": 9,
   "metadata": {
    "slideshow": {
     "slide_type": "fragment"
    }
   },
   "outputs": [
    {
     "data": {
      "text/plain": [
       "dtype('int64')"
      ]
     },
     "execution_count": 9,
     "metadata": {},
     "output_type": "execute_result"
    }
   ],
   "source": [
    "# Diferentemente das listas, os elementos das arrays são do mesmo tipo\n",
    "a.dtype"
   ]
  },
  {
   "cell_type": "markdown",
   "metadata": {
    "slideshow": {
     "slide_type": "slide"
    }
   },
   "source": [
    "### Criando `arrays`:\n",
    "\n",
    "A forma mais direta de se construir uma array é transformando uma lista de python em array:"
   ]
  },
  {
   "cell_type": "code",
   "execution_count": null,
   "metadata": {
    "slideshow": {
     "slide_type": "fragment"
    }
   },
   "outputs": [],
   "source": []
  },
  {
   "cell_type": "markdown",
   "metadata": {
    "slideshow": {
     "slide_type": "slide"
    }
   },
   "source": [
    "**Exercício 1 :** Existem funções para criar arrays com valores predeterminados; digite, por exemplo, o script (código) abaixo no Jupyter ou no Ipython e tirem conclusões das funções (métodos) utilizadas. Quais argumentos elas devem receber? O que elas geram como saída? Explique o porquê dos argumentos adotados.\n",
    "\n",
    "```python\n",
    "\n",
    "import numpy as np\n",
    "\n",
    "N = 10\n",
    "x = np.ones(N)\n",
    "y = np.zeros(2*N)\n",
    "\n",
    "z_0 = - np.pi\n",
    "z_N = np.pi\n",
    "z = np.linspace(z_0, z_N, N+1)\n",
    "\n",
    "w_i = 0\n",
    "w_f = 1\n",
    "dw = 0.1\n",
    "w = np.arange(w_i, w_f + dw, dw)\n",
    "```"
   ]
  },
  {
   "cell_type": "markdown",
   "metadata": {
    "slideshow": {
     "slide_type": "slide"
    }
   },
   "source": [
    "### Formatos e tamanhos\n",
    "\n",
    "Todas as arrays vistas até aqui **não** são nem vetores coluna **nem** vetores linha. Podemos mudar isso alterando o atributo `shape`:"
   ]
  },
  {
   "cell_type": "code",
   "execution_count": null,
   "metadata": {
    "slideshow": {
     "slide_type": "fragment"
    }
   },
   "outputs": [],
   "source": [
    "z = np.zeros(10)\n",
    "print(z)\n",
    "print(z.shape)"
   ]
  },
  {
   "cell_type": "code",
   "execution_count": null,
   "metadata": {
    "slideshow": {
     "slide_type": "fragment"
    }
   },
   "outputs": [],
   "source": [
    "# Digamos que queiramos um vetor coluna 10 x 1:\n",
    "z.shape = (10,1)\n",
    "print(z)"
   ]
  },
  {
   "cell_type": "markdown",
   "metadata": {
    "slideshow": {
     "slide_type": "slide"
    }
   },
   "source": [
    "### Formatos e tamanhos\n",
    "\n",
    "Podemos, também, criar as array já no formato desejado"
   ]
  },
  {
   "cell_type": "code",
   "execution_count": null,
   "metadata": {
    "slideshow": {
     "slide_type": "fragment"
    }
   },
   "outputs": [],
   "source": [
    "z = np.ones((10,1))\n",
    "z"
   ]
  },
  {
   "cell_type": "markdown",
   "metadata": {
    "slideshow": {
     "slide_type": "fragment"
    }
   },
   "source": [
    "Ou alterar mais drasticamente o formato da array:"
   ]
  },
  {
   "cell_type": "code",
   "execution_count": null,
   "metadata": {
    "slideshow": {
     "slide_type": "fragment"
    }
   },
   "outputs": [],
   "source": [
    "z.shape = (2,5)\n",
    "z"
   ]
  },
  {
   "cell_type": "markdown",
   "metadata": {
    "slideshow": {
     "slide_type": "slide"
    }
   },
   "source": [
    "### Para explorar ainda mais:\n",
    "\n",
    "```python\n",
    "dir(z)     # Lista todos os atributos e métodos\n",
    "help(z)    # Mostra a documentação de todo o objeto.   \n",
    "```"
   ]
  },
  {
   "cell_type": "code",
   "execution_count": null,
   "metadata": {
    "slideshow": {
     "slide_type": "fragment"
    }
   },
   "outputs": [],
   "source": [
    "# Para saber mais:\n",
    "\n",
    "np.info(z.fill)"
   ]
  },
  {
   "cell_type": "markdown",
   "metadata": {
    "slideshow": {
     "slide_type": "slide"
    }
   },
   "source": [
    "### Broadcasting\n",
    "\n",
    "Damos o nome de **Broadcasting** (transmissão) ao modo como o numpy trata arrays de diferentes formas em operações aritméticas."
   ]
  },
  {
   "cell_type": "code",
   "execution_count": null,
   "metadata": {
    "slideshow": {
     "slide_type": "fragment"
    }
   },
   "outputs": [],
   "source": [
    "# Operações entre arrays são, geralmente\n",
    "# elemento à elemento:\n",
    "a = np.array([1, 2, 3])\n",
    "b = np.array([2, 2, 2])\n",
    "c = np.array([3, 3, 3])\n",
    "\n",
    "print(a * b)\n",
    "print(a + c)"
   ]
  },
  {
   "cell_type": "code",
   "execution_count": null,
   "metadata": {
    "slideshow": {
     "slide_type": "fragment"
    }
   },
   "outputs": [],
   "source": [
    "# Porém, olhe que ocorre depois dos seguintes comandos:\n",
    "b = 2\n",
    "c = 3\n",
    "\n",
    "print(a * b)\n",
    "print(a + c)"
   ]
  },
  {
   "cell_type": "markdown",
   "metadata": {
    "slideshow": {
     "slide_type": "slide"
    }
   },
   "source": [
    "### Broadcasting\n",
    "\n",
    "Vamos tentar outros exemplos:"
   ]
  },
  {
   "cell_type": "code",
   "execution_count": null,
   "metadata": {
    "slideshow": {
     "slide_type": "fragment"
    }
   },
   "outputs": [],
   "source": [
    "A = np.array([[1,2,3],[11,12,13]])\n",
    "B = np.array([10, 20, 30])\n",
    "C = A + B # ? \n",
    "\n",
    "print(A)\n",
    "# print(A + B) # Qual será o resultado?"
   ]
  },
  {
   "cell_type": "code",
   "execution_count": null,
   "metadata": {
    "slideshow": {
     "slide_type": "fragment"
    }
   },
   "outputs": [],
   "source": [
    "print(A * B) # E quanto à multiplicação"
   ]
  },
  {
   "cell_type": "markdown",
   "metadata": {
    "slideshow": {
     "slide_type": "slide"
    }
   },
   "source": [
    "## Álgebra com matrizes:\n",
    "\n",
    "É do nosso interesse, por ventura, fazer cálculos com matrizes e vetores linha e coluna:"
   ]
  },
  {
   "cell_type": "code",
   "execution_count": null,
   "metadata": {
    "slideshow": {
     "slide_type": "-"
    }
   },
   "outputs": [],
   "source": [
    "print(a,\"\\n\")\n",
    "print(b,\"\\n\")"
   ]
  },
  {
   "cell_type": "markdown",
   "metadata": {
    "slideshow": {
     "slide_type": "fragment"
    }
   },
   "source": [
    "Transformamos  `a` num vetor coluna:"
   ]
  },
  {
   "cell_type": "code",
   "execution_count": null,
   "metadata": {
    "slideshow": {
     "slide_type": "fragment"
    }
   },
   "outputs": [],
   "source": [
    "a.shape = (4,1)\n",
    "a"
   ]
  },
  {
   "cell_type": "markdown",
   "metadata": {
    "slideshow": {
     "slide_type": "slide"
    }
   },
   "source": [
    "Na lógica de matrizes qual seria o resultado de:"
   ]
  },
  {
   "cell_type": "code",
   "execution_count": null,
   "metadata": {
    "slideshow": {
     "slide_type": "-"
    }
   },
   "outputs": [],
   "source": [
    "a * b"
   ]
  },
  {
   "cell_type": "code",
   "execution_count": null,
   "metadata": {
    "slideshow": {
     "slide_type": "fragment"
    }
   },
   "outputs": [],
   "source": [
    "# Seguindo essa lógica, qual seria o resultado de:\n",
    "b * a"
   ]
  },
  {
   "cell_type": "code",
   "execution_count": null,
   "metadata": {
    "slideshow": {
     "slide_type": "subslide"
    }
   },
   "outputs": [],
   "source": [
    "# Da mesma maneira, o resultado a seguir não\n",
    "# condiz com a álgebra de matrizes:\n",
    "a + b"
   ]
  },
  {
   "cell_type": "markdown",
   "metadata": {
    "slideshow": {
     "slide_type": "slide"
    }
   },
   "source": [
    "E a multiplicação entre matrizes e vetores?\n",
    "\n",
    "Operação tão importante que descreve transformações lineares."
   ]
  },
  {
   "cell_type": "code",
   "execution_count": null,
   "metadata": {
    "slideshow": {
     "slide_type": "fragment"
    }
   },
   "outputs": [],
   "source": [
    "Id_4 = np.eye(4)*4\n",
    "print(Id_4)\n",
    "print(\"\\n\")\n",
    "print(Id_4 * a)"
   ]
  },
  {
   "cell_type": "markdown",
   "metadata": {
    "slideshow": {
     "slide_type": "slide"
    }
   },
   "source": [
    "A função `np.dot` (ou o `@`) executa o trabalho:"
   ]
  },
  {
   "cell_type": "code",
   "execution_count": null,
   "metadata": {
    "slideshow": {
     "slide_type": "fragment"
    }
   },
   "outputs": [],
   "source": [
    "print(np.dot(Id_4, a))\n",
    "print(\"\\n\")\n",
    "\n",
    "print(np.dot(Id_4, a.reshape((4,)))) # retorna \"a\" ao formato original\n",
    "print(\"\\n\")\n",
    "\n",
    "print(Id_4 @ a)\n",
    "print(\"\\n\")\n",
    "\n",
    "print(Id_4 @ a.reshape((4,))) # retorna \"a\" ao formato original "
   ]
  },
  {
   "cell_type": "markdown",
   "metadata": {
    "slideshow": {
     "slide_type": "slide"
    }
   },
   "source": [
    "Também funciona para calcular produtos internos (escalares):"
   ]
  },
  {
   "cell_type": "code",
   "execution_count": null,
   "metadata": {
    "slideshow": {
     "slide_type": "skip"
    }
   },
   "outputs": [],
   "source": [
    "print(np.dot(b, a))"
   ]
  },
  {
   "cell_type": "code",
   "execution_count": null,
   "metadata": {
    "slideshow": {
     "slide_type": "fragment"
    }
   },
   "outputs": [],
   "source": [
    "# Se estivermos trabalhando com arrays simples, tudo bem:\n",
    "a.shape = (4,)\n",
    "b.shape = (4,)\n",
    "\n",
    "a @ b"
   ]
  },
  {
   "cell_type": "markdown",
   "metadata": {
    "slideshow": {
     "slide_type": "slide"
    }
   },
   "source": [
    "### Indexação\n",
    "\n",
    "Muito semelhante (pra não dizer idêntico) ao caso das listas."
   ]
  },
  {
   "cell_type": "code",
   "execution_count": null,
   "metadata": {
    "slideshow": {
     "slide_type": "-"
    }
   },
   "outputs": [],
   "source": [
    "print(a)"
   ]
  },
  {
   "cell_type": "code",
   "execution_count": null,
   "metadata": {
    "slideshow": {
     "slide_type": "-"
    }
   },
   "outputs": [],
   "source": [
    "# Lousa \n",
    "a[0] = 10\n",
    "a"
   ]
  },
  {
   "cell_type": "markdown",
   "metadata": {
    "slideshow": {
     "slide_type": "slide"
    }
   },
   "source": [
    "### Atenção: Tipagem forte (cuidado)"
   ]
  },
  {
   "cell_type": "code",
   "execution_count": null,
   "metadata": {},
   "outputs": [],
   "source": [
    "a[1] = 3.1415\n",
    "a"
   ]
  },
  {
   "cell_type": "code",
   "execution_count": null,
   "metadata": {
    "slideshow": {
     "slide_type": "fragment"
    }
   },
   "outputs": [],
   "source": [
    "a = np.array([1,2.0,3+4j])\n",
    "a.dtype"
   ]
  },
  {
   "cell_type": "code",
   "execution_count": null,
   "metadata": {
    "slideshow": {
     "slide_type": "fragment"
    }
   },
   "outputs": [],
   "source": [
    "a = np.array([1,2,3], dtype=complex)\n",
    "a"
   ]
  },
  {
   "cell_type": "markdown",
   "metadata": {
    "slideshow": {
     "slide_type": "slide"
    }
   },
   "source": [
    "## Fatiando arrays (slicing):"
   ]
  },
  {
   "cell_type": "code",
   "execution_count": null,
   "metadata": {
    "slideshow": {
     "slide_type": "fragment"
    }
   },
   "outputs": [],
   "source": [
    "a = np.arange(10) # versão numpy do \"range\"\n",
    "print(a)\n",
    "print(a[1:3]) # exclui o último índice\n",
    "print(a[:-2]) # exclui os dois últimos números\n",
    "print(a[::2]) # só pares\n",
    "print(a[1::2]) # só ímpares"
   ]
  },
  {
   "cell_type": "code",
   "execution_count": null,
   "metadata": {
    "slideshow": {
     "slide_type": "fragment"
    }
   },
   "outputs": [],
   "source": [
    "c = np.array([[1,2,3],[4,5,6]])\n",
    "c"
   ]
  },
  {
   "cell_type": "code",
   "execution_count": null,
   "metadata": {
    "slideshow": {
     "slide_type": "fragment"
    }
   },
   "outputs": [],
   "source": [
    "c[0,0]"
   ]
  },
  {
   "cell_type": "code",
   "execution_count": null,
   "metadata": {
    "slideshow": {
     "slide_type": "-"
    }
   },
   "outputs": [],
   "source": [
    "c[0]"
   ]
  },
  {
   "cell_type": "code",
   "execution_count": null,
   "metadata": {},
   "outputs": [],
   "source": [
    "c[:,0]"
   ]
  },
  {
   "cell_type": "markdown",
   "metadata": {
    "slideshow": {
     "slide_type": "slide"
    }
   },
   "source": [
    "### Exercício 2 (slicing):\n",
    "\n",
    "* Crie uma matriz 5 x 5 contendo os inteiros 0, 1,..., 24\n",
    "* Mostre somente a terceira coluna\n",
    "* Mostre a última linha (faça de um jeito que não dependa do tamanho da array) \n",
    "* Faça um 'slice' contendo a segunda e a quarta coluna"
   ]
  },
  {
   "cell_type": "code",
   "execution_count": null,
   "metadata": {
    "slideshow": {
     "slide_type": "skip"
    }
   },
   "outputs": [],
   "source": [
    "a = np.arange(25).reshape(5,5)"
   ]
  },
  {
   "cell_type": "code",
   "execution_count": null,
   "metadata": {
    "slideshow": {
     "slide_type": "skip"
    }
   },
   "outputs": [],
   "source": [
    "a[:,1::2]"
   ]
  },
  {
   "cell_type": "code",
   "execution_count": null,
   "metadata": {
    "slideshow": {
     "slide_type": "skip"
    }
   },
   "outputs": [],
   "source": [
    "a[:,3]"
   ]
  },
  {
   "cell_type": "code",
   "execution_count": null,
   "metadata": {
    "slideshow": {
     "slide_type": "skip"
    }
   },
   "outputs": [],
   "source": [
    "a[-1,:]"
   ]
  },
  {
   "cell_type": "code",
   "execution_count": null,
   "metadata": {
    "slideshow": {
     "slide_type": "skip"
    }
   },
   "outputs": [],
   "source": [
    "# Interprete o resultado da seguinte \"slice\":\n",
    "a[1::2,:-2:2]"
   ]
  },
  {
   "cell_type": "markdown",
   "metadata": {
    "slideshow": {
     "slide_type": "slide"
    }
   },
   "source": [
    "## Fancy indexing\n",
    "\n",
    "É possível construir arrays com base em outras arrays usando a técnica do *Fancy indexing*.\n",
    "\n",
    "Note que com o *Fancy indexing* nós realmente criamos uma nova array, não um \"ponteiro\" como no\n",
    "caso do slicing."
   ]
  },
  {
   "cell_type": "code",
   "execution_count": null,
   "metadata": {},
   "outputs": [],
   "source": [
    "a = np.arange(0,80,10) # faça um print se não lembra o que isso faz\n",
    "indices = [1, 2, -3]   # define uma lista de índices que me interessa\n",
    "\n",
    "y = a[indices] # nova array \"y\" recebe apenas os valores de \"a\" com índices de interesse\n",
    "print(a)\n",
    "print(y)"
   ]
  },
  {
   "cell_type": "code",
   "execution_count": null,
   "metadata": {},
   "outputs": [],
   "source": [
    "# Podemos fazer atribuições com Fancy indexing\n",
    "a[indices] = 72\n",
    "print(a)"
   ]
  },
  {
   "cell_type": "code",
   "execution_count": null,
   "metadata": {},
   "outputs": [],
   "source": [
    "y #  Lembrando Fancy indexing faz cópias; slicing não"
   ]
  },
  {
   "cell_type": "code",
   "execution_count": null,
   "metadata": {},
   "outputs": [],
   "source": [
    "# Criação manual de máscaras\n",
    "mask = np.array([0,1,1,0,0,1,0,0], dtype=bool)\n",
    "y = a[mask]\n",
    "print(y)"
   ]
  },
  {
   "cell_type": "markdown",
   "metadata": {},
   "source": [
    "**Exercício 3**: Comente cada uma das linhas explicitando o que cada uma delas faz. "
   ]
  },
  {
   "cell_type": "code",
   "execution_count": 7,
   "metadata": {},
   "outputs": [
    {
     "name": "stdout",
     "output_type": "stream",
     "text": [
      "[[ 0  1  2  3  4]\n",
      " [ 5  6  7  8  9]\n",
      " [10 11 12 13 14]\n",
      " [15 16 17 18 19]\n",
      " [20 21 22 23 24]]\n",
      "\n",
      " [ 1  7 13 19]\n",
      "[ 0  3  6  9 12 15 18 21 24]\n"
     ]
    }
   ],
   "source": [
    "A = np.arange(25).reshape(5, 5)\n",
    "B = A[[0,1,2,3],[1,2,3,4]]\n",
    "\n",
    "print(A)\n",
    "print(\"\\n\", B)\n",
    "\n",
    "div3 = A[A % 3 == 0]\n",
    "\n",
    "print(div3)"
   ]
  },
  {
   "cell_type": "code",
   "execution_count": null,
   "metadata": {},
   "outputs": [],
   "source": [
    "np.where(A % 3 == 0, A, np.nan)"
   ]
  },
  {
   "cell_type": "code",
   "execution_count": null,
   "metadata": {},
   "outputs": [],
   "source": []
  },
  {
   "cell_type": "code",
   "execution_count": null,
   "metadata": {},
   "outputs": [],
   "source": []
  },
  {
   "cell_type": "code",
   "execution_count": null,
   "metadata": {},
   "outputs": [],
   "source": []
  },
  {
   "cell_type": "markdown",
   "metadata": {},
   "source": [
    "## A \"State machine\" do Matplotlib\n",
    "\n",
    "Todo comando dado é aplicado modificando o atual estado da área de plot:"
   ]
  },
  {
   "cell_type": "code",
   "execution_count": 3,
   "metadata": {},
   "outputs": [
    {
     "data": {
      "image/png": "[encoded data removed]",
      "text/plain": [
       "<Figure size 432x288 with 1 Axes>"
      ]
     },
     "metadata": {
      "needs_background": "light"
     },
     "output_type": "display_data"
    }
   ],
   "source": [
    "import matplotlib.pyplot as plt\n",
    "\n",
    "t = np.linspace(0, 2*np.pi, 50)  \n",
    "x = np.sin(t) # aplica a função seno sobre todos os valores de 't'\n",
    "y = np.cos(t) # alpica cosseno em 't'\n",
    "\n",
    "# fazemos um plot dentro da figura\n",
    "\"\"\"\n",
    "Note que não foi dada uma variável para as abscissas.\n",
    "Procure entender o que significa os números no eixo x \n",
    "\"\"\"\n",
    "plt.plot(x)\n",
    "plt.plot(y) # podemos ir adicionando plots\n",
    "\n",
    "# Para visualizar\n",
    "plt.show()"
   ]
  },
  {
   "cell_type": "code",
   "execution_count": 10,
   "metadata": {},
   "outputs": [
    {
     "data": {
      "image/png": "[encoded data removed]",
      "text/plain": [
       "<Figure size 432x288 with 1 Axes>"
      ]
     },
     "metadata": {
      "needs_background": "light"
     },
     "output_type": "display_data"
    }
   ],
   "source": [
    "# Inserindo mais gráficos e 'marcando eles'\n",
    "# Agora temos valores para \"x\" e para \"y\"\n",
    "plt.plot(t, x,'r-o') # \n",
    "plt.plot(t, y,'b+-') # O tercei\n",
    "plt.show()"
   ]
  },
  {
   "cell_type": "code",
   "execution_count": 11,
   "metadata": {},
   "outputs": [
    {
     "data": {
      "image/png": "[encoded data removed]",
      "text/plain": [
       "<Figure size 432x288 with 1 Axes>"
      ]
     },
     "metadata": {
      "needs_background": "light"
     },
     "output_type": "display_data"
    }
   ],
   "source": [
    "# Inserindo mais gráficos e 'marcando eles'\n",
    "plt.plot(t, x, 'r-o', label='Sin')\n",
    "plt.plot(t, y, 'b+-', label='Cos')\n",
    "plt.title('Seno e Cosseno')\n",
    "plt.legend()\n",
    "plt.show()"
   ]
  },
  {
   "cell_type": "markdown",
   "metadata": {},
   "source": [
    "### Subplots:\n",
    "\n",
    "Podemos (e até aconselhamos) usar a sintaxe de *subplots* mesmo quando precisar de um único gráfico: "
   ]
  },
  {
   "cell_type": "code",
   "execution_count": 20,
   "metadata": {},
   "outputs": [
    {
     "data": {
      "image/png": "[encoded data removed]",
      "text/plain": [
       "<Figure size 432x288 with 1 Axes>"
      ]
     },
     "metadata": {
      "needs_background": "light"
     },
     "output_type": "display_data"
    }
   ],
   "source": [
    "fig = plt.figure()          # 1° defina sua figura\n",
    "ax  = fig.add_subplot(111)  # 2° adiciona um eixo onde irão os dados do gráfico\n",
    "ax.plot(t,x,'r-.',label=r\"$\\sin(x)$\")\n",
    "ax.plot(t,y,'b--',label=r\"$\\cos(x)$\")\n",
    "ax.legend()\n",
    "plt.title(\"Funções trigonométricas\")\n",
    "plt.show()"
   ]
  },
  {
   "cell_type": "code",
   "execution_count": 21,
   "metadata": {},
   "outputs": [
    {
     "data": {
      "image/png": "[encoded data removed]",
      "text/plain": [
       "<Figure size 432x288 with 2 Axes>"
      ]
     },
     "metadata": {
      "needs_background": "light"
     },
     "output_type": "display_data"
    }
   ],
   "source": [
    "fig  = plt.figure()          # 1° defina sua figura\n",
    "ax1  = fig.add_subplot(211)  # 2° adiciona um eixo onde irão os dados do gráfico\n",
    "ax2 = fig.add_subplot(212)\n",
    "\n",
    "ax1.plot(t,np.exp(-t),'r-.',label=r\"$e^{-t}\\cos(t)$\")\n",
    "ax2.plot(t,y,'b--',label=r\"$\\sin(t)$\")\n",
    "\n",
    "ax1.set_title(\"Exponential\")\n",
    "ax2.set_title(\"Cosseno\")\n",
    "\n",
    "plt.tight_layout() # Ajusta as posições dos subplots para as informações não se sobreponham \n",
    "plt.show()"
   ]
  },
  {
   "cell_type": "markdown",
   "metadata": {},
   "source": [
    "## Scatter plots"
   ]
  },
  {
   "cell_type": "code",
   "execution_count": 23,
   "metadata": {},
   "outputs": [
    {
     "data": {
      "image/png": "[encoded data removed]",
      "text/plain": [
       "<Figure size 432x288 with 1 Axes>"
      ]
     },
     "metadata": {
      "needs_background": "light"
     },
     "output_type": "display_data"
    }
   ],
   "source": [
    "from numpy.random import rand\n",
    "\n",
    "N = 50\n",
    "x = np.linspace(0, 10, N)\n",
    "\n",
    "e = rand(N) * 5 # 'Ruído' aleatório\n",
    "y1 = x + e\n",
    "\n",
    "areas = rand(N) * 300 \n",
    "plt.scatter(x, y1, s=areas)\n",
    "plt.show()"
   ]
  },
  {
   "cell_type": "code",
   "execution_count": 24,
   "metadata": {},
   "outputs": [
    {
     "data": {
      "image/png": "[encoded data removed]",
      "text/plain": [
       "<Figure size 432x288 with 2 Axes>"
      ]
     },
     "metadata": {
      "needs_background": "light"
     },
     "output_type": "display_data"
    }
   ],
   "source": [
    "colors = rand(N)\n",
    "plt.scatter(x, y1, s=areas, c=colors)\n",
    "plt.colorbar()\n",
    "plt.title(\"Random scatter\")\n",
    "plt.show()"
   ]
  },
  {
   "cell_type": "markdown",
   "metadata": {},
   "source": [
    "## Plot de funções com 2 variáveis:"
   ]
  },
  {
   "cell_type": "code",
   "execution_count": 25,
   "metadata": {},
   "outputs": [
    {
     "data": {
      "image/png": "[encoded data removed]",
      "text/plain": [
       "<Figure size 432x288 with 1 Axes>"
      ]
     },
     "metadata": {
      "needs_background": "light"
     },
     "output_type": "display_data"
    }
   ],
   "source": [
    "x = np.arange(-5,5,0.1)\n",
    "y = np.arange(-5,5,0.1)\n",
    "xx, yy = np.meshgrid(x, y)\n",
    "z = np.sin(xx**2 + yy**2)/(xx**2+yy**2)\n",
    "\n",
    "h = plt.contourf(x,y,z)\n",
    "plt.show()"
   ]
  },
  {
   "cell_type": "code",
   "execution_count": null,
   "metadata": {},
   "outputs": [],
   "source": []
  }
 ],
 "metadata": {
  "kernelspec": {
   "display_name": "Python 3",
   "language": "python",
   "name": "python3"
  },
  "language_info": {
   "codemirror_mode": {
    "name": "ipython",
    "version": 3
   },
   "file_extension": ".py",
   "mimetype": "text/x-python",
   "name": "python",
   "nbconvert_exporter": "python",
   "pygments_lexer": "ipython3",
   "version": "3.7.1"
  }
 },
 "nbformat": 4,
 "nbformat_minor": 2
}
