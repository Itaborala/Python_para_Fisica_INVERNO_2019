{
 "cells": [
  {
   "cell_type": "code",
   "execution_count": 1,
   "metadata": {},
   "outputs": [],
   "source": [
    "import numpy as np\n",
    "import numpy.linalg as algl\n",
    "import matplotlib.pyplot as plt"
   ]
  },
  {
   "cell_type": "code",
   "execution_count": 2,
   "metadata": {},
   "outputs": [],
   "source": [
    "SR = 48000\n",
    "tempo = np.arange(0, 3, 1/SR)\n",
    "cantor = np.zeros(len(tempo))\n",
    "ouvinte = np.zeros(len(tempo))\n",
    "#palma ideal (Delta de dirac)\n",
    "cantor[0] = 1."
   ]
  },
  {
   "cell_type": "code",
   "execution_count": 3,
   "metadata": {},
   "outputs": [],
   "source": [
    "def distancia(x, y):\n",
    "    diferenca = x - y\n",
    "    N = len(x) #ou len(y)\n",
    "    soma_quad = 0\n",
    "    for i in range(N):\n",
    "        soma_quad += diferenca[i]**2\n",
    "    \n",
    "    return np.sqrt(soma_quad)"
   ]
  },
  {
   "cell_type": "code",
   "execution_count": 4,
   "metadata": {},
   "outputs": [],
   "source": [
    "r = np.array([1., 1.])\n",
    "e = np.array([2., 2.])\n",
    "ra = np.array([1., -1.])\n",
    "c = 343\n",
    "\n",
    "d1 = distancia(r, e)\n",
    "d4 = 3*d1\n",
    "d2 = distancia(e, ra)\n",
    "d3 = d2"
   ]
  },
  {
   "cell_type": "code",
   "execution_count": 5,
   "metadata": {},
   "outputs": [],
   "source": [
    "def atraso_em_amostras(d, c, SR):\n",
    "    \n",
    "    M = int(np.floor(d*SR/c))\n",
    "    da = M*c/SR\n",
    "    \n",
    "    return M, da"
   ]
  },
  {
   "cell_type": "code",
   "execution_count": 6,
   "metadata": {},
   "outputs": [],
   "source": [
    "M1, da1 = atraso_em_amostras(d1, c, SR)\n",
    "M2, da2 = atraso_em_amostras(d2, c, SR)\n",
    "M3, da3 = atraso_em_amostras(d3, c, SR)\n",
    "M4, da4 = atraso_em_amostras(d4, c, SR)"
   ]
  },
  {
   "cell_type": "code",
   "execution_count": 7,
   "metadata": {},
   "outputs": [],
   "source": [
    "def ganho(d):\n",
    "    g = 1/d\n",
    "    return g"
   ]
  },
  {
   "cell_type": "code",
   "execution_count": 8,
   "metadata": {},
   "outputs": [],
   "source": [
    "g1 = ganho(da1)\n",
    "g2 = ganho(da2)\n",
    "g3 = ganho(da3)\n",
    "g4 = ganho(da4)"
   ]
  },
  {
   "cell_type": "code",
   "execution_count": 9,
   "metadata": {},
   "outputs": [],
   "source": [
    "ouvinte = np.zeros(len(tempo))\n",
    "ouvinte[M1] += 1.*g1\n",
    "ouvinte[M2] += 1.*g2\n",
    "ouvinte[M3] += 1.*g3\n",
    "ouvinte[M4] += 1.*g4"
   ]
  },
  {
   "cell_type": "code",
   "execution_count": 11,
   "metadata": {},
   "outputs": [
    {
     "data": {
      "image/png": "[encoded data removed]",
      "text/plain": [
       "<Figure size 432x288 with 1 Axes>"
      ]
     },
     "metadata": {
      "needs_background": "light"
     },
     "output_type": "display_data"
    }
   ],
   "source": [
    "plt.plot(tempo[0:1000], cantor[0:1000])\n",
    "plt.plot(tempo[0:1000], ouvinte[0:1000])\n",
    "plt.show()"
   ]
  },
  {
   "cell_type": "code",
   "execution_count": null,
   "metadata": {},
   "outputs": [],
   "source": []
  }
 ],
 "metadata": {
  "kernelspec": {
   "display_name": "Python 3",
   "language": "python",
   "name": "python3"
  },
  "language_info": {
   "codemirror_mode": {
    "name": "ipython",
    "version": 3
   },
   "file_extension": ".py",
   "mimetype": "text/x-python",
   "name": "python",
   "nbconvert_exporter": "python",
   "pygments_lexer": "ipython3",
   "version": "3.6.8"
  }
 },
 "nbformat": 4,
 "nbformat_minor": 2
}
