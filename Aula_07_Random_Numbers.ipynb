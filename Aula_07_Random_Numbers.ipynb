{
 "cells": [
  {
   "cell_type": "markdown",
   "metadata": {
    "slideshow": {
     "slide_type": "slide"
    }
   },
   "source": [
    "# Variáveis Aleatórias\n",
    "**(Referência: C. Scherer, Métodos Computacionais da Física)**"
   ]
  },
  {
   "cell_type": "markdown",
   "metadata": {
    "slideshow": {
     "slide_type": "slide"
    }
   },
   "source": [
    "## Geração de Números com uma distribuição aleatória:\n",
    "\n",
    "Seja X uma v. a. real, definida em $[a,b]$ e $f(x)$ sua distribuição de probabilidades, tal que\n",
    "\n",
    "$$ \\int_a^b f(x)dx = 1 $$\n",
    "\n",
    "e seja $F(x)$ a correspondente _função distribuição_ dada por\n",
    "\n",
    "$$ F(x) = \\int_a^x f(x^{\\prime}) dx^{\\prime}$$\n",
    "\n",
    "Partindo de uma distribuição uniforme, no intervalo $[0,1]$ como gerar números com distribuição $f(x)$?"
   ]
  },
  {
   "cell_type": "code",
   "execution_count": 1,
   "metadata": {},
   "outputs": [],
   "source": [
    "import numpy as np\n",
    "import matplotlib.pyplot as plt\n",
    "from matplotlib.patches import Polygon"
   ]
  },
  {
   "cell_type": "markdown",
   "metadata": {},
   "source": [
    "## OOP para cálculo de integrais:\n",
    "\n",
    "\n",
    "Antes de entrar na geração de números aleatórios em sí, faremos um desvio para... \n",
    "\n",
    "1. ... aprender/praticar integração numerica; e\n",
    "2. praticar o desenvolvimento orientado a objetos.\n",
    "\n",
    "**Aviso:**\n",
    "\n",
    "Você geralmente não precisa escrever um código do zero para calcular integrais numericamente. Faremos isso por motivos pedagógicos. Poderíamos integrar numericamente usando o **Scipy**, por exemplo. Scypi é uma biblioteca dedicada a problemas comuns em ciência e engenharia e que, juntamente com o numpy e o matplotlib, tornam o Python na plataforma de cálculo numérico favorita de muitos pesquisadores."
   ]
  },
  {
   "cell_type": "code",
   "execution_count": 2,
   "metadata": {},
   "outputs": [
    {
     "name": "stdout",
     "output_type": "stream",
     "text": [
      "(0.886226925452758, 9.884043033364133e-11)\n"
     ]
    }
   ],
   "source": [
    "\"\"\"\n",
    "Integração numérica é às vezes denominada de\n",
    "quadratura. Por isso o nome do carro chefe de\n",
    "integração numérica do scipy ser chamada de 'quad'\n",
    "\"\"\"\n",
    "import scipy.integrate\n",
    "from scipy.integrate import quad\n",
    "\n",
    "f = lambda x : np.exp(-x**2)\n",
    "\n",
    "integral = quad(f,0,50)\n",
    "print(integral)"
   ]
  },
  {
   "cell_type": "code",
   "execution_count": 3,
   "metadata": {},
   "outputs": [
    {
     "name": "stdout",
     "output_type": "stream",
     "text": [
      "\n",
      "    Compute a definite integral.\n",
      "\n",
      "    Integrate func from `a` to `b` (possibly infinite interval) using a\n",
      "    technique from the Fortran library QUADPACK.\n",
      "\n",
      "    Parameters\n",
      "    ----------\n",
      "    func : {function, scipy.LowLevelCallable}\n",
      "        A Python function or method to integrate.  If `func` takes many\n",
      "        arguments, it is integrated along the axis corresponding to the\n",
      "        first argument.\n",
      "\n",
      "        If the user desires improved integration performance, then `f` may\n",
      "        be a `scipy.LowLevelCallable` with one of the signatures::\n",
      "\n",
      "            double func(double x)\n",
      "            double func(double x, void *user_data)\n",
      "            double func(int n, double *xx)\n",
      "            double func(int n, double *xx, void *user_data)\n",
      "\n",
      "        The ``user_data`` is the data contained in the `scipy.LowLevelCallable`.\n",
      "        In the call forms with ``xx``,  ``n`` is the length of the ``xx``\n",
      "        array which contains ``xx[0] == x`` and the rest of the items are\n",
      "        numbers contained in the ``args`` argument of quad.\n",
      "\n",
      "        In addition, certain ctypes call signatures are supported for\n",
      "        backward compatibility, but those should not be used in new code.\n",
      "    a : float\n",
      "        Lower limit of integration (use -numpy.inf for -infinity).\n",
      "    b : float\n",
      "        Upper limit of integration (use numpy.inf for +infinity).\n",
      "    args : tuple, optional\n",
      "        Extra arguments to pass to `func`.\n",
      "    full_output : int, optional\n",
      "        Non-zero to return a dictionary of integration information.\n",
      "        If non-zero, warning messages are also suppressed and the\n",
      "        message is appended to the output tuple.\n",
      "\n",
      "    Returns\n",
      "    -------\n",
      "    y : float\n",
      "        The integral of func from `a` to `b`.\n",
      "    abserr : float\n",
      "        An estimate of the absolute error in the result.\n",
      "    infodict : dict\n",
      "        A dictionary containing additional information.\n",
      "        Run scipy.integrate.quad_explain() for more information.\n",
      "    message\n",
      "        A convergence message.\n",
      "    explain\n",
      "        Appended only with 'cos' or 'sin' weighting and infinite\n",
      "        integration limits, it contains an explanation of the codes in\n",
      "        infodict['ierlst']\n",
      "\n",
      "    Other Parameters\n",
      "    ----------------\n",
      "    epsabs : float or int, optional\n",
      "        Absolute error tolerance.\n",
      "    epsrel : float or int, optional\n",
      "        Relative error tolerance.\n",
      "    limit : float or int, optional\n",
      "        An upper bound on the number of subintervals used in the adaptive\n",
      "        algorithm.\n",
      "    points : (sequence of floats,ints), optional\n",
      "        A sequence of break points in the bounded integration interval\n",
      "        where local difficulties of the integrand may occur (e.g.,\n",
      "        singularities, discontinuities). The sequence does not have\n",
      "        to be sorted.\n",
      "    weight : float or int, optional\n",
      "        String indicating weighting function. Full explanation for this\n",
      "        and the remaining arguments can be found below.\n",
      "    wvar : optional\n",
      "        Variables for use with weighting functions.\n",
      "    wopts : optional\n",
      "        Optional input for reusing Chebyshev moments.\n",
      "    maxp1 : float or int, optional\n",
      "        An upper bound on the number of Chebyshev moments.\n",
      "    limlst : int, optional\n",
      "        Upper bound on the number of cycles (>=3) for use with a sinusoidal\n",
      "        weighting and an infinite end-point.\n",
      "\n",
      "    See Also\n",
      "    --------\n",
      "    dblquad : double integral\n",
      "    tplquad : triple integral\n",
      "    nquad : n-dimensional integrals (uses `quad` recursively)\n",
      "    fixed_quad : fixed-order Gaussian quadrature\n",
      "    quadrature : adaptive Gaussian quadrature\n",
      "    odeint : ODE integrator\n",
      "    ode : ODE integrator\n",
      "    simps : integrator for sampled data\n",
      "    romb : integrator for sampled data\n",
      "    scipy.special : for coefficients and roots of orthogonal polynomials\n",
      "\n",
      "    Notes\n",
      "    -----\n",
      "\n",
      "    **Extra information for quad() inputs and outputs**\n",
      "\n",
      "    If full_output is non-zero, then the third output argument\n",
      "    (infodict) is a dictionary with entries as tabulated below.  For\n",
      "    infinite limits, the range is transformed to (0,1) and the\n",
      "    optional outputs are given with respect to this transformed range.\n",
      "    Let M be the input argument limit and let K be infodict['last'].\n",
      "    The entries are:\n",
      "\n",
      "    'neval'\n",
      "        The number of function evaluations.\n",
      "    'last'\n",
      "        The number, K, of subintervals produced in the subdivision process.\n",
      "    'alist'\n",
      "        A rank-1 array of length M, the first K elements of which are the\n",
      "        left end points of the subintervals in the partition of the\n",
      "        integration range.\n",
      "    'blist'\n",
      "        A rank-1 array of length M, the first K elements of which are the\n",
      "        right end points of the subintervals.\n",
      "    'rlist'\n",
      "        A rank-1 array of length M, the first K elements of which are the\n",
      "        integral approximations on the subintervals.\n",
      "    'elist'\n",
      "        A rank-1 array of length M, the first K elements of which are the\n",
      "        moduli of the absolute error estimates on the subintervals.\n",
      "    'iord'\n",
      "        A rank-1 integer array of length M, the first L elements of\n",
      "        which are pointers to the error estimates over the subintervals\n",
      "        with ``L=K`` if ``K<=M/2+2`` or ``L=M+1-K`` otherwise. Let I be the\n",
      "        sequence ``infodict['iord']`` and let E be the sequence\n",
      "        ``infodict['elist']``.  Then ``E[I[1]], ..., E[I[L]]`` forms a\n",
      "        decreasing sequence.\n",
      "\n",
      "    If the input argument points is provided (i.e. it is not None),\n",
      "    the following additional outputs are placed in the output\n",
      "    dictionary.  Assume the points sequence is of length P.\n",
      "\n",
      "    'pts'\n",
      "        A rank-1 array of length P+2 containing the integration limits\n",
      "        and the break points of the intervals in ascending order.\n",
      "        This is an array giving the subintervals over which integration\n",
      "        will occur.\n",
      "    'level'\n",
      "        A rank-1 integer array of length M (=limit), containing the\n",
      "        subdivision levels of the subintervals, i.e., if (aa,bb) is a\n",
      "        subinterval of ``(pts[1], pts[2])`` where ``pts[0]`` and ``pts[2]``\n",
      "        are adjacent elements of ``infodict['pts']``, then (aa,bb) has level l\n",
      "        if ``|bb-aa| = |pts[2]-pts[1]| * 2**(-l)``.\n",
      "    'ndin'\n",
      "        A rank-1 integer array of length P+2.  After the first integration\n",
      "        over the intervals (pts[1], pts[2]), the error estimates over some\n",
      "        of the intervals may have been increased artificially in order to\n",
      "        put their subdivision forward.  This array has ones in slots\n",
      "        corresponding to the subintervals for which this happens.\n",
      "\n",
      "    **Weighting the integrand**\n",
      "\n",
      "    The input variables, *weight* and *wvar*, are used to weight the\n",
      "    integrand by a select list of functions.  Different integration\n",
      "    methods are used to compute the integral with these weighting\n",
      "    functions.  The possible values of weight and the corresponding\n",
      "    weighting functions are.\n",
      "\n",
      "    ==========  ===================================   =====================\n",
      "    ``weight``  Weight function used                  ``wvar``\n",
      "    ==========  ===================================   =====================\n",
      "    'cos'       cos(w*x)                              wvar = w\n",
      "    'sin'       sin(w*x)                              wvar = w\n",
      "    'alg'       g(x) = ((x-a)**alpha)*((b-x)**beta)   wvar = (alpha, beta)\n",
      "    'alg-loga'  g(x)*log(x-a)                         wvar = (alpha, beta)\n",
      "    'alg-logb'  g(x)*log(b-x)                         wvar = (alpha, beta)\n",
      "    'alg-log'   g(x)*log(x-a)*log(b-x)                wvar = (alpha, beta)\n",
      "    'cauchy'    1/(x-c)                               wvar = c\n",
      "    ==========  ===================================   =====================\n",
      "\n",
      "    wvar holds the parameter w, (alpha, beta), or c depending on the weight\n",
      "    selected.  In these expressions, a and b are the integration limits.\n",
      "\n",
      "    For the 'cos' and 'sin' weighting, additional inputs and outputs are\n",
      "    available.\n",
      "\n",
      "    For finite integration limits, the integration is performed using a\n",
      "    Clenshaw-Curtis method which uses Chebyshev moments.  For repeated\n",
      "    calculations, these moments are saved in the output dictionary:\n",
      "\n",
      "    'momcom'\n",
      "        The maximum level of Chebyshev moments that have been computed,\n",
      "        i.e., if ``M_c`` is ``infodict['momcom']`` then the moments have been\n",
      "        computed for intervals of length ``|b-a| * 2**(-l)``,\n",
      "        ``l=0,1,...,M_c``.\n",
      "    'nnlog'\n",
      "        A rank-1 integer array of length M(=limit), containing the\n",
      "        subdivision levels of the subintervals, i.e., an element of this\n",
      "        array is equal to l if the corresponding subinterval is\n",
      "        ``|b-a|* 2**(-l)``.\n",
      "    'chebmo'\n",
      "        A rank-2 array of shape (25, maxp1) containing the computed\n",
      "        Chebyshev moments.  These can be passed on to an integration\n",
      "        over the same interval by passing this array as the second\n",
      "        element of the sequence wopts and passing infodict['momcom'] as\n",
      "        the first element.\n",
      "\n",
      "    If one of the integration limits is infinite, then a Fourier integral is\n",
      "    computed (assuming w neq 0).  If full_output is 1 and a numerical error\n",
      "    is encountered, besides the error message attached to the output tuple,\n",
      "    a dictionary is also appended to the output tuple which translates the\n",
      "    error codes in the array ``info['ierlst']`` to English messages.  The\n",
      "    output information dictionary contains the following entries instead of\n",
      "    'last', 'alist', 'blist', 'rlist', and 'elist':\n",
      "\n",
      "    'lst'\n",
      "        The number of subintervals needed for the integration (call it ``K_f``).\n",
      "    'rslst'\n",
      "        A rank-1 array of length M_f=limlst, whose first ``K_f`` elements\n",
      "        contain the integral contribution over the interval\n",
      "        ``(a+(k-1)c, a+kc)`` where ``c = (2*floor(|w|) + 1) * pi / |w|``\n",
      "        and ``k=1,2,...,K_f``.\n",
      "    'erlst'\n",
      "        A rank-1 array of length ``M_f`` containing the error estimate\n",
      "        corresponding to the interval in the same position in\n",
      "        ``infodict['rslist']``.\n",
      "    'ierlst'\n",
      "        A rank-1 integer array of length ``M_f`` containing an error flag\n",
      "        corresponding to the interval in the same position in\n",
      "        ``infodict['rslist']``.  See the explanation dictionary (last entry\n",
      "        in the output tuple) for the meaning of the codes.\n",
      "\n",
      "    Examples\n",
      "    --------\n",
      "    Calculate :math:`\\int^4_0 x^2 dx` and compare with an analytic result\n",
      "\n",
      "    >>> from scipy import integrate\n",
      "    >>> x2 = lambda x: x**2\n",
      "    >>> integrate.quad(x2, 0, 4)\n",
      "    (21.333333333333332, 2.3684757858670003e-13)\n",
      "    >>> print(4**3 / 3.)  # analytical result\n",
      "    21.3333333333\n",
      "\n",
      "    Calculate :math:`\\int^\\infty_0 e^{-x} dx`\n",
      "\n",
      "    >>> invexp = lambda x: np.exp(-x)\n",
      "    >>> integrate.quad(invexp, 0, np.inf)\n",
      "    (1.0, 5.842605999138044e-11)\n",
      "\n",
      "    >>> f = lambda x,a : a*x\n",
      "    >>> y, err = integrate.quad(f, 0, 1, args=(1,))\n",
      "    >>> y\n",
      "    0.5\n",
      "    >>> y, err = integrate.quad(f, 0, 1, args=(3,))\n",
      "    >>> y\n",
      "    1.5\n",
      "\n",
      "    Calculate :math:`\\int^1_0 x^2 + y^2 dx` with ctypes, holding\n",
      "    y parameter as 1::\n",
      "\n",
      "        testlib.c =>\n",
      "            double func(int n, double args[n]){\n",
      "                return args[0]*args[0] + args[1]*args[1];}\n",
      "        compile to library testlib.*\n",
      "\n",
      "    ::\n",
      "\n",
      "       from scipy import integrate\n",
      "       import ctypes\n",
      "       lib = ctypes.CDLL('/home/.../testlib.*') #use absolute path\n",
      "       lib.func.restype = ctypes.c_double\n",
      "       lib.func.argtypes = (ctypes.c_int,ctypes.c_double)\n",
      "       integrate.quad(lib.func,0,1,(1))\n",
      "       #(1.3333333333333333, 1.4802973661668752e-14)\n",
      "       print((1.0**3/3.0 + 1.0) - (0.0**3/3.0 + 0.0)) #Analytic result\n",
      "       # 1.3333333333333333\n",
      "\n",
      "    Be aware that pulse shapes and other sharp features as compared to the\n",
      "    size of the integration interval may not be integrated correctly using\n",
      "    this method. A simplified example of this limitation is integrating a\n",
      "    y-axis reflected step function with many zero values within the integrals\n",
      "    bounds.\n",
      "\n",
      "    >>> y = lambda x: 1 if x<=0 else 0\n",
      "    >>> integrate.quad(y, -1, 1)\n",
      "    (1.0, 1.1102230246251565e-14)\n",
      "    >>> integrate.quad(y, -1, 100)\n",
      "    (1.0000000002199108, 1.0189464580163188e-08)\n",
      "    >>> integrate.quad(y, -1, 10000)\n",
      "    (0.0, 0.0)\n",
      "\n",
      "    "
     ]
    }
   ],
   "source": [
    "scipy.integrate.quad_explain()"
   ]
  },
  {
   "cell_type": "markdown",
   "metadata": {},
   "source": [
    "### Hierarquia de Classe e Integração Numérica:\n",
    "\n",
    "#### Diferentes métodos:\n",
    "\n",
    "Todos os métodos de integração podem ser resumidos na seguinte expressão:\n",
    "\n",
    "$$ \n",
    "\\int^b_a f(x) dx \\approx \\sum^{n-1}_{i=0}w_i f(x_i)\n",
    "$$\n",
    "\n",
    "onde, $w_i$ são os **pesos** e $x_i$ são os **pontos** em que a função é avaliada."
   ]
  },
  {
   "cell_type": "markdown",
   "metadata": {},
   "source": [
    "* **Método do ponto médio:**\n",
    "    $$\n",
    "    x_i = a + \\frac{h}{2} + ih ~,~~~ w_i = h~,~~~h =\\frac{b-a}{n}~,~~~i=0,\\dots,n-1\n",
    "    $$"
   ]
  },
  {
   "cell_type": "markdown",
   "metadata": {},
   "source": [
    "* **Método do trapézio:**\n",
    "    $$\n",
    "    x_i = a + ih ~,~~~h=\\frac{b-a}{n-1}~,~~~i=0,\\dots,n-1\n",
    "    $$\n",
    "    \n",
    "    $$\n",
    "    w_0 = w_{n-1} = \\frac{h}{2}~,~~~w_i = h~,~~~i=1,\\dots,n-2\n",
    "    $$"
   ]
  },
  {
   "cell_type": "markdown",
   "metadata": {},
   "source": [
    "* **Método de Simpson:** Mesmos pontos $x_i$ do método do trapézio, mas com\n",
    "    $$\n",
    "    h =  2\\frac{b-a}{n-1}~,~~ w_0 = w_{n-1} = \\frac{h}{6}\n",
    "    $$\n",
    "    \n",
    "    $$\n",
    "    w_i = \\frac{h}{3}~,~~~i=2,4,6,\\dots,n-3\n",
    "    $$\n",
    "    \n",
    "    $$\n",
    "    w_i = \\frac{2 h}{3}~,~~~i=1,3,5,\\dots,n-2\n",
    "    $$\n",
    "    Note que precisamos ter um número ímpar de pontos para poder usar a regra de Simpson."
   ]
  },
  {
   "cell_type": "code",
   "execution_count": 4,
   "metadata": {},
   "outputs": [],
   "source": [
    "class Integrator:\n",
    "    \"\"\"\n",
    "    Superclass que define os possíveis integradores.\n",
    "    \"\"\"\n",
    "    def __init__(self, a, b, n):\n",
    "        '''\n",
    "        Toda função para integrar funções deve saber os \n",
    "        limite de integração (a,b) e a quantidade de pontos\n",
    "        discretos (n) que compõe a função.\n",
    "        \n",
    "        Dependem do método escolhido:\n",
    "        * os pesos da soma;\n",
    "        * os pontos onde a função é avaliada.        \n",
    "        '''\n",
    "        self.a, self.b, self.n = a, b, n\n",
    "        self.points, self.weights = self.construct_method()\n",
    "    \n",
    "    def construct_method(self):\n",
    "        \"\"\"\n",
    "        Queremos ter mais de uma opção de método de integração.\n",
    "        Assim, cada um dos diferentes métodos irá herdar dessa\n",
    "        superclasse e irá sobrescrever este método:\n",
    "        \"\"\"\n",
    "        raise NotImplementedError('no rule in class %s' % \n",
    "                                  self.__class__.__name__)\n",
    "    \n",
    "    def integrate(self, f):\n",
    "        \"\"\"\n",
    "        Este método calcula a integral uma vez definidos os \n",
    "        pontos e os pesos. Comum á todos os métodos.\n",
    "        \"\"\"\n",
    "        s = 0\n",
    "        for i in range(len(self.weights)):\n",
    "            s += self.weights[i]*f(self.points[i])\n",
    "        return s\n",
    "    \n",
    "    def vectorized_integrate(self, f):\n",
    "        \"\"\"\n",
    "        Mesmo procedimento do método integrate, porém\n",
    "        mais eficiente por estar vetorizado.\n",
    "        \"\"\"\n",
    "        return np.dot(self.weights, f(self.points))"
   ]
  },
  {
   "cell_type": "code",
   "execution_count": 5,
   "metadata": {},
   "outputs": [],
   "source": [
    "class Midpoint(Integrator):\n",
    "    \"\"\"\n",
    "    Subclasse que implementa o método de integração onde a\n",
    "    função é avaliada no ponto médio dos intervalos discretos.\n",
    "    \"\"\"\n",
    "    def construct_method(self):\n",
    "        a, b, n = self.a, self.b, self.n\n",
    "        h = (b-a)/float(n)\n",
    "        x = np.linspace(a + 0.5*h, b-0.5*h, n)\n",
    "        w = np.zeros(len(x)) + h\n",
    "        return x, w\n",
    "    \n",
    "class Simpson(Integrator):\n",
    "    \"\"\"\n",
    "    Implementa o método de Simpson, com base na superclasse\n",
    "    'Integrator'.\n",
    "    \"\"\"\n",
    "    def construct_method(self):\n",
    "        if self.n % 2 != 1:\n",
    "            # print('n=%d must be odd, 1 is added' % self.n)\n",
    "            self.n +=1\n",
    "        a, b, n = self.a, self.b, self.n\n",
    "        x = np.linspace(a, b, n)\n",
    "        h = 2*(b - a)/float(n-1)\n",
    "        w = np.zeros(len(x))\n",
    "        w[0:n:2] = h * 1/3\n",
    "        w[1:n-1:2] = h * 2/3\n",
    "        w[0] /= 2\n",
    "        w[-1] /= 2\n",
    "        return x, w"
   ]
  },
  {
   "cell_type": "code",
   "execution_count": 6,
   "metadata": {},
   "outputs": [
    {
     "name": "stdout",
     "output_type": "stream",
     "text": [
      "Resultado numerico (Mid): 2.667\n",
      "Resultado analítico: 2.667\n",
      "Erro absoluto: 0.000025\n",
      "Erro em porcentagem: 0.00245 %\n"
     ]
    }
   ],
   "source": [
    "def f(x):return x*x\n",
    "\n",
    "N_ptos = 101\n",
    "x_ini  = 0\n",
    "x_fin  = 2\n",
    "\n",
    "m = Midpoint(x_ini, x_fin, 101) # inicializa, o integrador\n",
    "\n",
    "result_analitico = 8/3 \n",
    "result_numerico = m.integrate(f)\n",
    "\n",
    "erro_a = abs(result_numerico-result_analitico)/result_analitico\n",
    "erro_p = 100 * erro_a\n",
    "\n",
    "print(\"Resultado numerico (Mid): %1.3f\" %result_numerico)\n",
    "print(\"Resultado analítico: %1.3f\" %result_analitico)\n",
    "print(\"Erro absoluto: %1.6f\" % erro_a)\n",
    "print(\"Erro em porcentagem: %1.5f %%\" % erro_p)"
   ]
  },
  {
   "cell_type": "code",
   "execution_count": 7,
   "metadata": {},
   "outputs": [
    {
     "name": "stdout",
     "output_type": "stream",
     "text": [
      "Resultado numerico (Sim): 2.667\n",
      "Resultado analítico: 2.667\n",
      "Erro absoluto: 3.33067e-16\n",
      "Erro em porcentagem: 0.0000000 %\n"
     ]
    }
   ],
   "source": [
    "def f(x):return x*x\n",
    "\n",
    "N_ptos = 101\n",
    "x_ini  = 0\n",
    "x_fin  = 2\n",
    "\n",
    "s = Simpson(x_ini, x_fin, N_ptos)\n",
    "\n",
    "result_analitico = 8/3 \n",
    "result_numerico = s.integrate(f)\n",
    "\n",
    "erro_a = abs(result_numerico-result_analitico)/result_analitico\n",
    "erro_p = 100 * erro_a\n",
    "\n",
    "print(\"Resultado numerico (Sim): %1.3f\" %result_numerico)\n",
    "print(\"Resultado analítico: %1.3f\" %result_analitico)\n",
    "print(\"Erro absoluto: %g\" % erro_a)\n",
    "print(\"Erro em porcentagem: %1.7f %%\" % erro_p)"
   ]
  },
  {
   "cell_type": "code",
   "execution_count": 8,
   "metadata": {},
   "outputs": [
    {
     "data": {
      "image/png": "[encoded data removed]",
      "text/plain": [
       "<Figure size 432x288 with 1 Axes>"
      ]
     },
     "metadata": {
      "needs_background": "light"
     },
     "output_type": "display_data"
    }
   ],
   "source": [
    "def gauss(x):\n",
    "    '''\n",
    "    Função gaussiana.\n",
    "    '''\n",
    "    x0 = 5\n",
    "    sigma = 2\n",
    "    return 1/(sigma*np.sqrt(2*np.pi))*np.exp(-0.5*((x-x0)/sigma)**2)\n",
    "\n",
    "def int_x(x, f, n = 101):\n",
    "    '''\n",
    "    Essa função gera a função definida pela integral da função \"f\"\n",
    "    começando em x_inf = x[0] e indo até o ponto.\n",
    "    '''\n",
    "    Y = np.zeros(len(x))\n",
    "    L = (x[-1] - x[0]) # comprimento da região total de integração\n",
    "    for ind_x in range(len(x)):\n",
    "        porcent = (x[ind_x] - x[0])/L        # porcentagem do comprimento total\n",
    "        ptos = int(np.floor(porcent * n)) # quantidade de ptos dependente do intervalo\n",
    "        s = Simpson(x[0], x[ind_x], n)    # inicia o integrador \n",
    "        Y[ind_x] = s.integrate(f)            # integra e slava o resultado em 'Y'\n",
    "    return Y\n",
    "    \n",
    "\n",
    "a, b, c = -1, 6, 11 # integral limits (a,b) plot limits (a,c)\n",
    "\n",
    "x = np.linspace(a, c)\n",
    "y = gauss(x)\n",
    "\n",
    "F_x = int_x(x, gauss)\n",
    "\n",
    "\n",
    "fig, ax = plt.subplots()\n",
    "ax.plot(x, y, linewidth=2)\n",
    "ax.plot(x, F_x, color='red')\n",
    "ax.set_ylim(bottom=0)\n",
    "# ax.set_ylim(top=0.5)\n",
    "\n",
    "ix = np.linspace(a,b)\n",
    "iy = gauss(ix)\n",
    "verts = [(a,0), *zip(ix,iy), (b,0)]\n",
    "poly = Polygon(verts, facecolor='0.9', edgecolor='0.4')\n",
    "ax.add_patch(poly)\n",
    "\n",
    "ax.spines['right'].set_visible(False)\n",
    "ax.spines['top'].set_visible(False)\n",
    "ax.xaxis.set_ticks_position('bottom')\n",
    "\n",
    "ax.text(0.1*(a+c),0.8,r\"$F(x) = \\int_a^x f(x^{\\prime})dx^{\\prime}$\",\n",
    "        fontsize=18)\n",
    "ax.text(0.6*(a+c),0.2,r\"$f(x)$\",\n",
    "        fontsize=18)\n",
    "\n",
    "ax.set_xticks([b])\n",
    "ax.set_xticklabels('x',fontsize=18)\n",
    "plt.show()"
   ]
  },
  {
   "cell_type": "markdown",
   "metadata": {
    "slideshow": {
     "slide_type": "slide"
    }
   },
   "source": [
    "**Pergunta:** Partindo de uma distribuição uniforme, no intervalo $[0,1]$ como gerar números com distribuição $f(x)$?\n",
    "\n",
    "**Resposta:**\n",
    "Seja *r* um número gerado com distribuição uniforme; tomamos\n",
    "\n",
    "$$r = F(x)$$\n",
    "\n",
    "e assim \n",
    "\n",
    "$$x = F^{-1}(r)$$"
   ]
  },
  {
   "cell_type": "markdown",
   "metadata": {
    "slideshow": {
     "slide_type": "slide"
    }
   },
   "source": [
    "**Exemplo:**\n",
    "\n",
    "Dipolo elétrico $\\vec{\\mu}$ em um fluído à temperatura $T$. Suponha que seja aplicado um campo eletrostático uniforme $\\vec{E}$, a energia de interação do dipolo com o campo é\n",
    "\n",
    "$$ V(\\theta) = \\mu |\\vec{E}| \\cos\\theta $$\n",
    "\n",
    "Para um sistema em equilíbrio:\n",
    "\n",
    "$$f(\\theta) = C e^{K \\cos \\theta} \\sin \\theta$$\n",
    "\n",
    "com \n",
    "$$K = \\frac{\\mu |\\vec{E}|}{k_B T}$$\n",
    "\n",
    "$$C = \\frac{K}{2 \\sinh(K)}$$\n",
    "\n",
    "..."
   ]
  },
  {
   "cell_type": "markdown",
   "metadata": {
    "slideshow": {
     "slide_type": "subslide"
    }
   },
   "source": [
    "\n",
    "De maneira que\n",
    "\n",
    "$$F(\\theta) = \\int C \\sin(\\theta^{\\prime}) \\exp(K\\cos\\theta^{\\prime}) d\\theta^{\\prime} = \\frac{C}{K}(e^{K}-e^{K\\cos\\theta})$$\n",
    "\n",
    "\n",
    "Concluindo em\n",
    "\n",
    "$$ \\theta = \\arccos\\left[\\frac{1}{K} \\log\\left(e^{K}-\\frac{Kr}{C}\\right)\\right]$$"
   ]
  },
  {
   "cell_type": "markdown",
   "metadata": {},
   "source": [
    "**Exercício (4.5):**\n",
    "\n",
    "Gerar N números aleatórios com a distribuição dada por $f(\\theta)$ acima, produzir um histograma e comparar com o gráfico de $f(\\theta)$.\n",
    "\n",
    "$$f(\\theta) = C e^{K \\cos \\theta} \\sin \\theta $$\n",
    "\n",
    "$$\\theta = \\arccos\\left[\\frac{1}{K} \\log\\left(e^{K}-\\frac{Kr}{C}\\right)\\right]$$\n"
   ]
  },
  {
   "cell_type": "code",
   "execution_count": 9,
   "metadata": {},
   "outputs": [
    {
     "name": "stdout",
     "output_type": "stream",
     "text": [
      "Valor da integral sob a curva = 1\n"
     ]
    },
    {
     "data": {
      "image/png": "[encoded data removed]",
      "text/plain": [
       "<Figure size 1080x360 with 2 Axes>"
      ]
     },
     "metadata": {
      "needs_background": "light"
     },
     "output_type": "display_data"
    }
   ],
   "source": [
    "\n",
    "class F_theta:\n",
    "    def __init__(self, T):\n",
    "        self.T = T\n",
    "        self.K = 1/T\n",
    "        self.C = self.K/(2 * np.sinh(self.K))\n",
    "    \n",
    "    def theta_r(self,r):\n",
    "        C, K = self.C, self.K\n",
    "        return np.arccos(1/K * np.log(np.exp(K)-K*r/C))\n",
    "        \n",
    "    def __call__(self, theta):\n",
    "        C, K = self.C, self.K\n",
    "        return C * np.exp( K * np.cos(theta)) * np.sin(theta)\n",
    "    \n",
    "\n",
    "\n",
    "\n",
    "T = 10\n",
    "\n",
    "simp = Simpson(0,np.pi,301)\n",
    "f_dens = F_theta(T)\n",
    "\n",
    "print(\"Valor da integral sob a curva = %1.2g\" % simp.integrate(f_dens))\n",
    "\n",
    "x_theta = np.linspace(0, np.pi)\n",
    "y_theta = f_dens(x_theta)\n",
    "\n",
    "N_points = 1000000 # A million of points\n",
    "n_bins = 50 # number of bins\n",
    "\n",
    "rand_unif = np.random.uniform(0, 1, N_points)\n",
    "rand_theta = f_dens.theta_r(rand_unif) \n",
    "\n",
    "fig = plt.figure(figsize=(15,5))\n",
    "ax1 = fig.add_subplot(121)\n",
    "ax2 = fig.add_subplot(122)\n",
    "ax1.hist(rand_theta,bins=n_bins,density=True)\n",
    "ax2.plot(x_theta, y_theta)\n",
    "plt.tight_layout()\n",
    "# ax2.plot(x_theta, 1000000/sum(y_theta) * y_theta)\n",
    "plt.show()"
   ]
  },
  {
   "cell_type": "markdown",
   "metadata": {},
   "source": [
    "## E se não soubermos $F(x)$?\n",
    "\n",
    "Consideremos uma distribuição conhecida (e complicada): a distribuição **lognormal**\n",
    "\n",
    "$$f(x) =\\frac{1}{x\\sigma\\sqrt{2\\pi}} \\exp\\left[-\\frac{(\\ln x - \\mu)^2}{2\\sigma^2}\\right]$$\n",
    "\n"
   ]
  },
  {
   "cell_type": "code",
   "execution_count": 10,
   "metadata": {},
   "outputs": [],
   "source": [
    "class LogNormal:\n",
    "    def __init__(self, sigma, x0):\n",
    "        self.sigma = sigma\n",
    "        self.x0 = x0\n",
    "        self.mu = np.log(x0)\n",
    "    \n",
    "    def __call__(self, x):\n",
    "        sigma, x0 = self.sigma, self.x0\n",
    "        C_norm = 1/(sigma * np.sqrt(2*np.pi))\n",
    "        Exp_x = np.exp(-(np.log(x/x0))**2/(2*sigma**2) )/x\n",
    "        return C_norm * Exp_x \n",
    "\n",
    "# def func_log_normal(x, sigma=0.5, mu=1):\n",
    "#     C = 1/(sigma * np.sqrt(2*np.pi))\n",
    "#     E = np.exp(-(np.log(x) - mu)**2/(2*sigma**2) )/x\n",
    "#     return C * E \n",
    "        "
   ]
  },
  {
   "cell_type": "code",
   "execution_count": 11,
   "metadata": {},
   "outputs": [
    {
     "data": {
      "image/png": "[encoded data removed]",
      "text/plain": [
       "<Figure size 432x288 with 1 Axes>"
      ]
     },
     "metadata": {
      "needs_background": "light"
     },
     "output_type": "display_data"
    },
    {
     "name": "stdout",
     "output_type": "stream",
     "text": [
      "1.0\n"
     ]
    }
   ],
   "source": [
    "log_normal = LogNormal(0.5, 1.5)\n",
    "\n",
    "x_log = np.linspace(0,10,100)[1:]\n",
    "y_log_class = log_normal(x_log)\n",
    "\n",
    "F_log = int_x(x_log, log_normal)\n",
    "F_log /= F_log[-1]\n",
    "\n",
    "plt.plot(x_log, y_log_class)\n",
    "plt.plot(x_log, F_log)\n",
    "# plt.plot(F_log, x_log)\n",
    "plt.show()\n",
    "print(F_log[-1])"
   ]
  },
  {
   "cell_type": "markdown",
   "metadata": {},
   "source": [
    "**Procedimento:**\n",
    "* Discretizamos o intervalo $[a,b]$ em n pontos, $[\\tilde{x}_0,\\tilde{x}_1,...,\\tilde{x}_n]$;\n",
    "* Calcula-se a integral numericamente: $F_j = F(\\tilde{x}_j)$\n",
    "* Sorteamos $r$ uniformemente distribuido entre $[0,1]$;\n",
    "* Encontramos o menor *j* tal que $F_j > r$\n",
    "* Interpolamos para achar o $x$ correspondente à $r$\n",
    "\n",
    "\n",
    "$$ x = \\tilde{x}_{j-1} + \\frac{\\Delta \\tilde{x}}{F_j - F_{j-1}} (r - F_{j-1})$$"
   ]
  },
  {
   "cell_type": "code",
   "execution_count": 12,
   "metadata": {},
   "outputs": [],
   "source": [
    "r_array = np.random.uniform(0,1,N_points)\n",
    "\n",
    "def find_indx(r, F):\n",
    "    # Encontra o menor índice 'j' tal que Fⱼ > r\n",
    "    # Retorna: j, F[j], F[j-1] \n",
    "    for j in range(len(F)):\n",
    "        if F[j] > r:\n",
    "            if j == 0:\n",
    "                return j, F[j], 0                \n",
    "            return j, F[j], F[j-1]\n",
    "\n",
    "def x_rand_log(r):\n",
    "    ind, Fmaior, Fmenor = find_indx(r, F_log)\n",
    "    Δ̃x = x_log[ind] - x_log[ind-1]\n",
    "    ΔF = Fmaior - Fmenor\n",
    "    x_r_log = x_log[ind-1] + (r-Fmenor) * Δ̃x/ΔF\n",
    "    return x_r_log\n",
    "\n",
    "x_r = np.zeros(len(r_array))\n",
    "\n",
    "for r_ind in range(len(r_array)):\n",
    "    x_r[r_ind] = x_rand_log(r_array[r_ind]) \n",
    "\n"
   ]
  },
  {
   "cell_type": "markdown",
   "metadata": {},
   "source": [
    "**Normalização:**\n",
    "\n",
    "Queremos comparar o histograma dos $N$ pontos aleatórios com o gráfico da função densidade de probabilidade $f(x)$. Para isso precisamos fazer com que a área do Histograma e aquela abaixo da curva de $f(x)$ sejam aproximadamente iguais.\n",
    "\n",
    "Sejam $n_{\\text{b}}$ e $n$ os números de intervalos para o histograma (*bins*) e o números de pontos (igualmente espaçados) do domínio da $f(x)$ respectivamente, temos:\n",
    "\n",
    "$$ A_{\\text{his}} = \\sum_{i=1}^{n_{\\text{b}}} h_i \\Delta x_{\\text{h}} = \\Delta x_{\\text{h}} \\sum_{i=1}^{n_{\\text{b}}} h_i \\\\= N \\Delta x_{\\text{h}} $$\n",
    "\n",
    "$$ A_{\\text{gra}} = \\sum_{i=1}^{n} f(x_i) \\Delta x_{\\text{g}} =  \\Delta x_{\\text{g}} \\sum_{i=1}^{n} f(x_i) \\\\\n",
    "= \\text{sum}(y) \\Delta x_{\\text{g}}$$\n",
    "\n",
    "Onde $h_i$ é a altura da i-ésima coluna do histograma e $\\Delta x_{\\text{h}}$ é o intervalo compreendido por cada um do $n_{\\text{b}}$ bins. Enquanto que $\\Delta x_{\\text{g}}$ é o espaçamento de cada co-ordenada do gráfico. \n",
    "\n",
    "Assim, se *normalizarmos* $f(x)$ dividindo cada ponto $y_i = f(x_i)$ por $\\text{sum}(y) \\Delta x_{\\text{g}}$ teremos uma área aproximadamente unitária. Se, depois disso, multiplicarmos tais valores normalizados por $N \\Delta x_{\\text{h}}$, teremos uma curva cuja área será aproximadamente a mesma do Histograma.\n",
    "\n",
    "Para colocar no código:\n",
    "\n",
    "$$ N \\Delta x_{\\text{h}} = N \\frac{L}{n_{\\text{b}}}$$\n",
    "\n",
    "$$ \\frac{N \\Delta x_{\\text{h}}}{\\text{sum}(y)~ \\Delta x_{\\text{g}}} f(x) = \n",
    "   \\frac{N ~L}{n_{\\text{b}}~ \\text{sum}(y)~ \\Delta x_{\\text{g}}} f(x) \\\\\n",
    "   = \\frac{n_{\\text{g}}}{n_{\\text{b}}}\\frac{N}{\\text{sum}(y)} f(x)= \\frac{\\text{len}(x_{\\text{array}})}{n_{\\text{b}}}\\frac{N}{\\text{sum}(y)} f(x)$$\n",
    "   \n",
    "Onde usamos $L/\\Delta x_{\\text{g}} = n_{\\text{g}} = \\text{len}(x_{\\text{array}})$, em que $L$ é o comprimento do domínio da função definida no intervalo $[a,~b]$, ou seja, $L = b - a$."
   ]
  },
  {
   "cell_type": "code",
   "execution_count": 13,
   "metadata": {},
   "outputs": [
    {
     "data": {
      "image/png": "[encoded data removed]",
      "text/plain": [
       "<Figure size 432x288 with 1 Axes>"
      ]
     },
     "metadata": {
      "needs_background": "light"
     },
     "output_type": "display_data"
    }
   ],
   "source": [
    "plt.hist(x_r, bins=n_bins)\n",
    "plt.plot(x_log, (len(x_log)/n_bins) * N_points/sum(y_log_class) * y_log_class)\n",
    "plt.show()"
   ]
  },
  {
   "cell_type": "markdown",
   "metadata": {},
   "source": [
    "# Teorema do limite central"
   ]
  },
  {
   "cell_type": "code",
   "execution_count": 14,
   "metadata": {},
   "outputs": [],
   "source": [
    "\n",
    "# def distr_media(N, ):\n",
    "#     x_r = np.zeros(10)\n",
    "\n"
   ]
  },
  {
   "cell_type": "markdown",
   "metadata": {},
   "source": [
    "# Método Monte Carlo\n",
    "\n",
    "Ou método da Rejeição:\n",
    "* Aplicabilidade muito geral\n",
    "* Números aleatórios em $d$ dimensões: $\\vec{x} = (x1,x2,\\cdots,x_d)$\n",
    "\n",
    "**Prodecimento:**\n",
    "\n",
    "1. Seja $f(\\vec{x})$ a densidade de probabilidade definida em uma região $R=\\{(a_1,b_1),(a_2,b_2),\\cdots,(a_d,b_d)\\}$;\n",
    "2. Normalizamos $f(\\vec{x})$ de modo que `max(f(x_vec))=1`;\n",
    "3. Geramos $d$ (dimensão) números aleátorios com distr. uniforme entre $a_j$ e $b_j$: `xj = aj + (bj - aj) * rj`;\n",
    "4. Calculamos $f(\\vec{x})$;\n",
    "5. Geramos um número aleatório, uniforme $r$ entre 0 e 1;\n",
    "6. Testamos o valor de $r$:\n",
    "     + Se $r \\leq f(\\vec{x})$, aceitamos $\\vec{x}$ como um ponto para nossa amostra;\n",
    "     + Se $r > f(\\vec{x})$, rejeitamos $\\vec{x}$ e voltamos para o item 3. "
   ]
  },
  {
   "cell_type": "markdown",
   "metadata": {},
   "source": [
    "**Exemplo:**\n",
    "\n",
    "Consideremos a distribuição de $x=(\\theta, \\phi)$ com $0\\leq \\theta \\leq \\pi$ e $0\\leq \\phi \\leq 2\\pi$ Distribuição de equilíbrio da orientação de um dipolo elétrico ou magnético, em presença de uma anisotropia uniaxial na direção $\\mathbf{z}$ e um campo na direção $\\mathbf{x}$, sendo $\\theta$ e $\\phi$ seus ângulos polares.\n",
    "\n",
    "$$ f(\\theta, \\phi) = \\sin(\\theta) \\exp[K \\cos^2(\\theta) - 1] + H[\\sin(\\theta)\\cos(\\phi) -1]$$\n",
    "\n",
    "\n"
   ]
  },
  {
   "cell_type": "code",
   "execution_count": 15,
   "metadata": {},
   "outputs": [
    {
     "name": "stdout",
     "output_type": "stream",
     "text": [
      "1.0\n"
     ]
    },
    {
     "data": {
      "image/png": "[encoded data removed]",
      "text/plain": [
       "<Figure size 432x288 with 2 Axes>"
      ]
     },
     "metadata": {
      "needs_background": "light"
     },
     "output_type": "display_data"
    }
   ],
   "source": [
    "def f_theta_phi(θ, ϕ, K=1.5, H=1.5):\n",
    "    return np.sin(θ) * np.exp(K * ((np.cos(θ))**2 - 1) \n",
    "                              + H * (np.sin(θ)*np.cos(ϕ) - 1))\n",
    "\n",
    "\n",
    "theta = np.linspace(0, np.pi, 101)\n",
    "phi = np.linspace(0, 2*np.pi, 201)\n",
    "\n",
    "x, y = np.meshgrid(theta, phi)\n",
    "z = f_theta_phi(x,y)\n",
    "Max = np.max(z)\n",
    "z /= Max \n",
    "print(np.max(z))\n",
    "\n",
    "plt.contourf(x,y,z)\n",
    "plt.colorbar()\n",
    "plt.show()"
   ]
  },
  {
   "cell_type": "code",
   "execution_count": 16,
   "metadata": {},
   "outputs": [
    {
     "data": {
      "image/png": "[encoded data removed]",
      "text/plain": [
       "<Figure size 432x288 with 1 Axes>"
      ]
     },
     "metadata": {
      "needs_background": "light"
     },
     "output_type": "display_data"
    }
   ],
   "source": [
    "def sortea_theta_phi():\n",
    "    theta = np.random.uniform(0, np.pi)\n",
    "    phi = np.random.uniform(0, 2*np.pi)\n",
    "    return theta, phi\n",
    "\n",
    "def sortea_r_test(F):\n",
    "    r_test = np.random.uniform(0,1)\n",
    "    if r_test <= F: return True\n",
    "    else: return False\n",
    "\n",
    "def monte_carlo_2D(N, Maxf, func):\n",
    "    x, y = np.zeros([2, N])\n",
    "    count = 0\n",
    "    \n",
    "    while count != N-1:\n",
    "        rx, ry  = sortea_theta_phi()\n",
    "        F_rx_ry = func(rx, ry)/Maxf\n",
    "        if sortea_r_test(F_rx_ry):\n",
    "            x[count] = rx\n",
    "            y[count] = ry\n",
    "            count += 1\n",
    "    return x, y\n",
    "        \n",
    "\n",
    "x_mont, y_mont = monte_carlo_2D(1000000, Max, f_theta_phi)\n",
    "\n",
    "plt.hist2d(x_mont, y_mont, bins=50)\n",
    "plt.show()\n",
    "    \n",
    "    "
   ]
  },
  {
   "cell_type": "markdown",
   "metadata": {},
   "source": [
    "**Exercício (4.6):**\n",
    "\n",
    "Gere $N$ números aleatórios com distribuição lognormal usando o método de Monte Carlo. Faça um histograma desses números e compare com a função lognormal.\n",
    "\n"
   ]
  },
  {
   "cell_type": "code",
   "execution_count": null,
   "metadata": {},
   "outputs": [],
   "source": []
  },
  {
   "cell_type": "code",
   "execution_count": null,
   "metadata": {},
   "outputs": [],
   "source": []
  },
  {
   "cell_type": "code",
   "execution_count": null,
   "metadata": {},
   "outputs": [],
   "source": []
  },
  {
   "cell_type": "code",
   "execution_count": null,
   "metadata": {},
   "outputs": [],
   "source": []
  },
  {
   "cell_type": "code",
   "execution_count": null,
   "metadata": {},
   "outputs": [],
   "source": []
  },
  {
   "cell_type": "code",
   "execution_count": null,
   "metadata": {},
   "outputs": [],
   "source": []
  }
 ],
 "metadata": {
  "kernelspec": {
   "display_name": "Python 3",
   "language": "python",
   "name": "python3"
  },
  "language_info": {
   "codemirror_mode": {
    "name": "ipython",
    "version": 3
   },
   "file_extension": ".py",
   "mimetype": "text/x-python",
   "name": "python",
   "nbconvert_exporter": "python",
   "pygments_lexer": "ipython3",
   "version": "3.6.8"
  },
  "rise": {
   "scroll": true
  }
 },
 "nbformat": 4,
 "nbformat_minor": 2
}
