{
 "cells": [
  {
   "cell_type": "markdown",
   "metadata": {
    "slideshow": {
     "slide_type": "slide"
    }
   },
   "source": [
    "# Simulações em Mecânica Estatística:\n",
    "\n",
    "\n",
    "## Conceitos importantes:\n",
    "\n",
    "* **Microestado**: conjunto de todas as coordenadas e dos momentos dos constituintes da amostra num dado instante;\n",
    "\n",
    "* **Macroestado**: Ou estado Termodinâmico, é especificado pelo conjunto de variáveis macroscópicas como pressão, temperatura, número de partículas;\n",
    "\n",
    "* Para cada **Macroestado** temos uma enormidade de **Microestados**; \n",
    "\n",
    "* **Ensemble:** conjunto muito grande ($\\mathcal{N}\\rightarrow \\infty$) de sistemas idênticos do ponto de vista macroscópico. "
   ]
  },
  {
   "cell_type": "markdown",
   "metadata": {
    "slideshow": {
     "slide_type": "slide"
    }
   },
   "source": [
    "\n",
    "* Ensemble canônico:  temperatura, volume e número de particulas fixas\n",
    "\n",
    "* Um sistema $S$ microscópico está numa temperatura $T$ se está em equilíbrio com um sistema $S_2 \\gg S$;\n",
    "\n",
    "* O microestado $m$ é uma variável aleatória com distribuição de probabilidades dada pela *Distribuição de Boltzmann*:\n",
    "\n",
    "$$ P(E_m)  =  \\frac{\\exp\\left(-\\frac{E_m}{k_B T}\\right)}{Z(T)} $$\n",
    "\n",
    "* Onde $Z(T)$ é a chamada função de partição e é dada por\n",
    "\n",
    "$$ Z(T) = \\sum_{j}^{\\mathcal{N}} exp\\left(-\\frac{E_{\\alpha_j}}{k_BT}\\right) $$"
   ]
  },
  {
   "cell_type": "markdown",
   "metadata": {
    "slideshow": {
     "slide_type": "slide"
    }
   },
   "source": [
    "## Modelo de Ising:\n",
    "\n",
    "\n",
    "* N dipolos magnéticos fixos numa rede unidimensional\n",
    "\n",
    "* A partícula no sítio $i$ tem spin $s_i$, que pode ser *Up* ou *Down*\n",
    "    $$ s_i = s_{z,i} = \\pm \\frac{1}{2} $$\n",
    "\n",
    "* Cada configuração das N partículas é descrita por um vetor de estado\n",
    "    $$|\\alpha_j\\rangle  = |s_1,s_2,\\cdots,s_N\\rangle = \\left\\{ \\pm\\frac{1}{2}, \\pm\\frac{1}{2}, \\cdots \\right\\} \\\\j = 1,\\cdots, 2^N $$"
   ]
  },
  {
   "cell_type": "markdown",
   "metadata": {
    "slideshow": {
     "slide_type": "subslide"
    }
   },
   "source": [
    "* Assumimos que cada dipolo interege com cada um dos seus vizinhos e com um campo externo por meio do potencial\n",
    "    $$V_i = -J \\vec{s}_i \\cdot \\vec{s}_{i+1} - g \\mu_b \\vec{s}_i \\cdot \\vec{B} \\\\\n",
    "    \\mu_B = \\frac{e\\hbar}{2 m_e c}$$\n",
    "\n",
    "* A energia do sistema no estado $|\\alpha_k\\rangle$ é dada por:\n",
    "    $$E_{\\alpha_k} = \\langle \\alpha_k|\\sum_i V_i|\\alpha_k \\rangle \\\\\n",
    "    = -J \\sum_{i=1}^{N-1}s_is_{i+1} - B \\mu_b \\sum^{N}_{i=1}s_i$$"
   ]
  },
  {
   "cell_type": "markdown",
   "metadata": {
    "slideshow": {
     "slide_type": "slide"
    }
   },
   "source": [
    "## Alguns resultados analíticos:\n",
    "\n",
    "Para cadeias muito grandes pode-se obter algumas variáveis termodinâmicas de forma analítica (Plischke and Bergersen, 1994):\n",
    "\n",
    "$$\n",
    "U = \\langle E \\rangle = - J N\\tanh\\left( \\frac{J}{k_B T} \\right)\n",
    "$$\n",
    "\n",
    "$$\n",
    "C(k_BT) = \\frac{1}{N} \\frac{dU}{dT} = \\frac{(J/k_BT)^2}{\\cosh^2(J/k_BT)}\n",
    "$$\n",
    "\n",
    "$$\n",
    "\\begin{equation}\n",
    "M(k_BT) = \\frac{N e^{J/k_BT}\\sinh(B/k_BT)}{\\sqrt{e^{2J/k_BT}\\sinh^2(B/k_BT) + e^{-2J/k_BT}}}\n",
    "\\end{equation}\n",
    "$$"
   ]
  },
  {
   "cell_type": "markdown",
   "metadata": {
    "slideshow": {
     "slide_type": "slide"
    }
   },
   "source": [
    "## Algoritmo de Metrópolis\n",
    "\n",
    "1. Comece por uma configuração arbitrária $\\alpha_k = \\{ s_1, s_2,\\dots,s_N \\}$;\n",
    "\n",
    "2. Gere uma configuração teste $\\alpha_{\\text{t}}$:\n",
    "    1. escollha uma partícula ao acaso, e\n",
    "    2. mude seu estado de spin\n",
    "\n",
    "3. Calcule a energia $E_{\\alpha_t}$ da config. teste;\n",
    "\n",
    "4. Se $E_{\\alpha_t} \\leq E_{\\alpha_k}$, aceite o teste e faça $\\alpha_{k+1} = \\alpha_t$"
   ]
  },
  {
   "cell_type": "markdown",
   "metadata": {
    "slideshow": {
     "slide_type": "subslide"
    }
   },
   "source": [
    "5. Caso ($E_{\\alpha_t} > E_{\\alpha_k}$), aceite com *ressalvas*:\n",
    "    * Calcule $\\mathcal{R} = \\exp(-\\Delta E/k_BT)$\n",
    "    * Escolha um número aleatório com distribuição uniforme: $$0\\leq r_i < 1$$\n",
    "    * Se $\\mathcal{R} \\geq r_i \\longrightarrow \\alpha_{k+1} = \\alpha_t $ (aceito)\n",
    "    * Caso $\\mathcal{R} < r_i \\longrightarrow \\alpha_{k+1} = \\alpha_k $ (rejeitado)"
   ]
  },
  {
   "cell_type": "markdown",
   "metadata": {
    "slideshow": {
     "slide_type": "slide"
    }
   },
   "source": [
    "## Implementação:"
   ]
  },
  {
   "cell_type": "code",
   "execution_count": 3,
   "metadata": {
    "slideshow": {
     "slide_type": "fragment"
    }
   },
   "outputs": [],
   "source": [
    "import numpy as np\n",
    "import matplotlib.pyplot as plt\n",
    "from numpy import random"
   ]
  },
  {
   "cell_type": "markdown",
   "metadata": {
    "slideshow": {
     "slide_type": "slide"
    }
   },
   "source": [
    "### Iniciar a cadeia de spins: "
   ]
  },
  {
   "cell_type": "code",
   "execution_count": 14,
   "metadata": {
    "slideshow": {
     "slide_type": "fragment"
    }
   },
   "outputs": [
    {
     "name": "stdout",
     "output_type": "stream",
     "text": [
      "[1. 1. 1. 1. 1. 1. 1. 1. 1. 1. 1. 1. 1. 1. 1. 1. 1. 1. 1. 1.]\n"
     ]
    }
   ],
   "source": [
    "def start_config(N, cold = False):\n",
    "    '''\n",
    "    Retorna uma array contendo os estados de spin inicial;\n",
    "        * Se cold = True: teremos N spins 'Up' (+1)\n",
    "        * Se cold = False: array aleatória de \"Up's\" & \"Down's\"\n",
    "    '''\n",
    "    if cold == True:\n",
    "        chain_ini = np.ones(N)\n",
    "        \n",
    "    else:\n",
    "        chain_ini =  np.random.randint(-1, high=1, size=N)\n",
    "        chain_ini += chain_ini + 1\n",
    "        \n",
    "    return chain_ini\n",
    "\n",
    "cadeia_spins = start_config(20,cold=True)\n",
    "print(cadeia_spins)"
   ]
  },
  {
   "cell_type": "code",
   "execution_count": 12,
   "metadata": {},
   "outputs": [],
   "source": [
    "def start_config_2D(N, M, cold=True):\n",
    "    if cold == True:\n",
    "        rede = np.ones((N, M))\n",
    "    else:\n",
    "        rede = np.random.randint(-1, high=1, size=(N,M))\n",
    "        rede += rede + 1 \n",
    "    return rede\n",
    "\n",
    "lattice = start_config_2D(15,10,False)\n",
    "#print(lattice)\n",
    "N, M = lattice.shape\n",
    "\n",
    "\n",
    "# M_As = np.full((N, M),\"Anel\")\n",
    "\n",
    "# print(M_As)\n",
    "\n",
    "# for i in range(N):\n",
    "#     for j in range(M):\n",
    "#         if lattice[i,j] == -1:\n",
    "#             M_As[i,j] = 'Boné'\n",
    "# print(\"\\n\",M_As)"
   ]
  },
  {
   "cell_type": "code",
   "execution_count": 29,
   "metadata": {},
   "outputs": [
    {
     "name": "stdout",
     "output_type": "stream",
     "text": [
      "[[-1  1  1  1 -1 -1 -1  1 -1 -1]\n",
      " [-1 -1 -1  1 -1  1  1  1 -1  1]\n",
      " [ 1 -1  1  1  1  1  1  1 -1  1]\n",
      " [-1  1 -1 -1 -1 -1 -1 -1 -1  1]\n",
      " [ 1  1  1  1  1 -1  1 -1  1 -1]\n",
      " [-1 -1  1 -1  1 -1  1  1  1 -1]\n",
      " [-1  1 -1 -1 -1 -1 -1  1 -1 -1]\n",
      " [-1  1  1  1 -1  1 -1  1 -1 -1]\n",
      " [ 1  1  1 -1  1 -1 -1 -1  1  1]\n",
      " [-1  1 -1  1 -1 -1  1 -1 -1  1]\n",
      " [ 1 -1 -1  1  1 -1 -1 -1 -1 -1]\n",
      " [-1  1 -1 -1  1 -1 -1  1  1 -1]\n",
      " [ 1 -1  1  1 -1  1 -1  1 -1  1]\n",
      " [ 1  1  1  1  1  1 -1 -1 -1  1]\n",
      " [-1 -1  1 -1 -1 -1 -1  1 -1 -1]]\n",
      "(0, 3)\n"
     ]
    }
   ],
   "source": [
    "def flip2D(rede):\n",
    "    N, M = rede.shape\n",
    "    i = np.random.randint(0, high = N)\n",
    "    j = np.random.randint(0, high = M)\n",
    "    rede[i,j] *= -1 \n",
    "    return rede, (i,j)\n",
    "\n",
    "A, index = flip2D(lattice)\n",
    "print(A)\n",
    "print(index)"
   ]
  },
  {
   "cell_type": "code",
   "execution_count": 30,
   "metadata": {},
   "outputs": [
    {
     "name": "stdout",
     "output_type": "stream",
     "text": [
      "150\n"
     ]
    }
   ],
   "source": [
    "count = 0\n",
    "for i in range(lattice.shape[0]):\n",
    "    for j in range(lattice.shape[1]):\n",
    "        count += 1\n",
    "print(count)"
   ]
  },
  {
   "cell_type": "markdown",
   "metadata": {
    "slideshow": {
     "slide_type": "slide"
    }
   },
   "source": [
    "### Calcular a Energia de uma cadeia de spins"
   ]
  },
  {
   "cell_type": "markdown",
   "metadata": {},
   "source": [
    "#### 1D:"
   ]
  },
  {
   "cell_type": "code",
   "execution_count": 8,
   "metadata": {
    "slideshow": {
     "slide_type": "fragment"
    }
   },
   "outputs": [],
   "source": [
    "def calc_energy(S, J = .1, B = 0, μ = .5):\n",
    "    '''\n",
    "    Calcula a energia da cadeia de spins usando o Hamiltoniano do modelo de Ising\n",
    "        * 'S' = cadeia de spins (array)\n",
    "    '''\n",
    "    E = 0\n",
    "    for i in range(len(S)):\n",
    "        E += - J * S[i]*S[(i+1) % len(S)] + μ * S[i] * B\n",
    "        \n",
    "    E += μ * S[-1] * B # contabiliza último sítio\n",
    "    \n",
    "    return E"
   ]
  },
  {
   "cell_type": "markdown",
   "metadata": {},
   "source": [
    "#### 2D:"
   ]
  },
  {
   "cell_type": "code",
   "execution_count": 31,
   "metadata": {},
   "outputs": [
    {
     "name": "stdout",
     "output_type": "stream",
     "text": [
      "8.0\n"
     ]
    }
   ],
   "source": [
    "def calc_energy_2D(rede, J = 1., B = 0, μ = 0.5):\n",
    "    N, M = rede.shape\n",
    "    E = 0\n",
    "    for i in range(N):\n",
    "        for j in range(M):\n",
    "            E += rede[i,j]*(-J*(rede[i,(j+1)%M] + rede[(i+1)%N, j])-B*μ)\n",
    "    \n",
    "    return E\n",
    "            \n",
    "E = calc_energy_2D(lattice)\n",
    "print(E)"
   ]
  },
  {
   "cell_type": "markdown",
   "metadata": {
    "slideshow": {
     "slide_type": "slide"
    }
   },
   "source": [
    "### Calcular a variação de energia causada por um 'flip'"
   ]
  },
  {
   "cell_type": "markdown",
   "metadata": {},
   "source": [
    "#### 1D:"
   ]
  },
  {
   "cell_type": "code",
   "execution_count": 9,
   "metadata": {
    "slideshow": {
     "slide_type": "fragment"
    }
   },
   "outputs": [],
   "source": [
    "def calc_ΔE(S_t, ind, J = .1, B = 0, μ = .5):\n",
    "    '''\n",
    "    Calcula a alteração na energia de um 'flip'.\n",
    "        * 'S_t' cadeia de spins a ser testada\n",
    "    '''\n",
    "    i_0 = ind - 1\n",
    "    i_2 = ind + 1\n",
    "\n",
    "    if ind == 0:\n",
    "        ΔE = 2 * S_t[ind] * (-J * S_t[i_2] - μ*B)\n",
    "    elif ind == len(S_t) - 1:\n",
    "        ΔE = 2 * S_t[ind] * (-J * S_t[i_0] - μ*B)\n",
    "    else:\n",
    "        ΔE = 2 * S_t[ind] * (-J * (S_t[i_2] + S_t[i_0]) - μ*B)\n",
    "    return ΔE"
   ]
  },
  {
   "cell_type": "markdown",
   "metadata": {},
   "source": [
    "#### 2D: Exercício"
   ]
  },
  {
   "cell_type": "code",
   "execution_count": null,
   "metadata": {},
   "outputs": [],
   "source": []
  },
  {
   "cell_type": "markdown",
   "metadata": {
    "slideshow": {
     "slide_type": "slide"
    }
   },
   "source": [
    "### Aceitar (ou não) o estado 'flipado'"
   ]
  },
  {
   "cell_type": "markdown",
   "metadata": {},
   "source": [
    "#### 1D:"
   ]
  },
  {
   "cell_type": "code",
   "execution_count": 10,
   "metadata": {
    "slideshow": {
     "slide_type": "fragment"
    }
   },
   "outputs": [],
   "source": [
    "def decide(S_t, ind, T):\n",
    "    '''\n",
    "    Função para decidir se o estado de teste ('flipado') será aceito,\n",
    "    ou não, como novo estado para a cadeia de spins.\n",
    "    '''\n",
    "    Delta_E = calc_ΔE(S_t, ind)\n",
    "    if Delta_E <= 0:\n",
    "        return True\n",
    "    else:\n",
    "        # estamos adotando k_B = 1\n",
    "        R = np.exp(- Delta_E / T)\n",
    "        rᵢ = random.uniform()\n",
    "        if rᵢ <= R: \n",
    "            return True\n",
    "        else: \n",
    "            return False"
   ]
  },
  {
   "cell_type": "markdown",
   "metadata": {},
   "source": [
    "#### 2D:"
   ]
  },
  {
   "cell_type": "code",
   "execution_count": 32,
   "metadata": {},
   "outputs": [],
   "source": [
    "def decide2D(rede_ini, rede_final, T, k=1):\n",
    "    \n",
    "    E_ini = calc_energy_2D(rede_ini)\n",
    "    E_final = calc_energy_2D(rede_final)\n",
    "    \n",
    "    if E_final <= E_ini:\n",
    "        return True\n",
    "    else:\n",
    "        ΔE = E_final - E_ini\n",
    "        R  = np.exp(-ΔE/(k*T))\n",
    "        r  = np.random.uniform(0,1)\n",
    "        if r <= R:\n",
    "            return True\n",
    "        else:\n",
    "            return False\n",
    "    "
   ]
  },
  {
   "cell_type": "markdown",
   "metadata": {
    "slideshow": {
     "slide_type": "slide"
    }
   },
   "source": [
    "### 'Flipar' um spin aleatório (ou não)"
   ]
  },
  {
   "cell_type": "markdown",
   "metadata": {},
   "source": [
    "#### 1D:"
   ]
  },
  {
   "cell_type": "code",
   "execution_count": 11,
   "metadata": {
    "slideshow": {
     "slide_type": "fragment"
    }
   },
   "outputs": [],
   "source": [
    "def new_config(S_k, T = 0.0001):\n",
    "    '''\n",
    "    Nesta função, a cadeia de spins sofre uma transição,\n",
    "    ou não de acordo com o critério da função 'decide'.\n",
    "    \n",
    "    T = é a temperatura do banho térmico em contato com a cadeia\n",
    "    '''\n",
    "    # Escolhe um sítio:\n",
    "    ind = random.randint(0, len(S_k))\n",
    "\n",
    "    # Config. teste:\n",
    "    S_k[ind] *= -1 # flip\n",
    "\n",
    "    # Decisão:\n",
    "    decision = decide(S_k, ind, T)\n",
    "    if decision == False:\n",
    "        S_k[ind] *= -1\n",
    "    return S_k"
   ]
  },
  {
   "cell_type": "markdown",
   "metadata": {},
   "source": [
    "#### 2D:"
   ]
  },
  {
   "cell_type": "code",
   "execution_count": null,
   "metadata": {},
   "outputs": [],
   "source": [
    "def new_config_2D(rede, T):\n",
    "    \n",
    "    rede_teste = rede.copy() # copia a rede inicial em outra matriz \n",
    "    rede_teste,_ = flip2D(rede_teste) # executa a função 'flip2D' e salva em rede_test\n",
    "    \n",
    "    decisao = decide2D(rede, rede_teste, T) # Para uma dada temperatura, decide-se pelo 'flip'\n",
    "    if decisao == True:\n",
    "        # Caso se aceite o 'flip', nova config será aquela com o flip\n",
    "        return rede_teste\n",
    "    else\n",
    "        # Caso contrario será a mesma de antes\n",
    "        return rede"
   ]
  },
  {
   "cell_type": "markdown",
   "metadata": {
    "slideshow": {
     "slide_type": "slide"
    }
   },
   "source": [
    "### Calcular energia média (amostragem espaçada)"
   ]
  },
  {
   "cell_type": "markdown",
   "metadata": {},
   "source": [
    "#### 1D:"
   ]
  },
  {
   "cell_type": "code",
   "execution_count": 12,
   "metadata": {
    "slideshow": {
     "slide_type": "fragment"
    }
   },
   "outputs": [],
   "source": [
    "def energia_media_T(alpha, N, M_rounds, T):\n",
    "    E_acumulada = 0\n",
    "    for i in range(M_rounds * N):\n",
    "        alpha = new_config(alpha,T = T)\n",
    "        if i % N == (N-1):\n",
    "            E_acumulada += calc_energy(alpha)\n",
    "\n",
    "    return E_acumulada / M_rounds"
   ]
  },
  {
   "cell_type": "markdown",
   "metadata": {},
   "source": [
    "#### 2D:"
   ]
  },
  {
   "cell_type": "code",
   "execution_count": 1,
   "metadata": {},
   "outputs": [],
   "source": [
    "def energia_media_T_2D(rede, M_rounds, T):\n",
    "    E_acumulada = 0\n",
    "    N, M = rede.shape\n",
    "    for i in range(M_rounds * N * M):\n",
    "        rede = new_config(rede, T)\n",
    "        if i % (N*M) == (N*M-1):\n",
    "            E_acumulada += calc_energy(alpha)\n",
    "\n",
    "    return E_acumulada / M_rounds"
   ]
  },
  {
   "cell_type": "markdown",
   "metadata": {},
   "source": [
    "## Atenção:\n",
    "\n",
    "Não coloquei aqui todos os passos necessários para obter os resultados apresentados abaixo. O código utilizado para a obtenção dos gráficos para uma cadeia unidimensional se encontra no arquivo 'metropolis_ising_model_1D.py'. Alguns dos resultados foram obtidos via o código 'metropolis_ising_model_1D_oop.py' também presente neste repositório.\n",
    "\n",
    "Para gerar resultados semelhantes usando as funções escritas em classe, deixamos o exercício de escrever um arquivo '.py' organizado."
   ]
  },
  {
   "cell_type": "markdown",
   "metadata": {
    "slideshow": {
     "slide_type": "slide"
    }
   },
   "source": [
    "## O que esperar?\n",
    "\n",
    "$$\n",
    "U = \\langle E \\rangle = - J N\\tanh\\left( \\frac{J}{k_B T} \\right)\n",
    "$$"
   ]
  },
  {
   "cell_type": "code",
   "execution_count": 13,
   "metadata": {
    "slideshow": {
     "slide_type": "subslide"
    }
   },
   "outputs": [
    {
     "data": {
      "image/png": "[encoded data removed]",
      "text/plain": [
       "<Figure size 432x288 with 1 Axes>"
      ]
     },
     "metadata": {
      "needs_background": "light"
     },
     "output_type": "display_data"
    }
   ],
   "source": [
    "N = 100\n",
    "m = 200\n",
    "J = .1\n",
    "\n",
    "T_array = np.linspace(0,1,100)[1:]\n",
    "E_analitico = -J * N * np.tanh(J/T_array)\n",
    "    \n",
    "plt.plot(T_array, E_analitico)\n",
    "plt.show()"
   ]
  },
  {
   "cell_type": "code",
   "execution_count": null,
   "metadata": {
    "slideshow": {
     "slide_type": "skip"
    }
   },
   "outputs": [],
   "source": []
  },
  {
   "cell_type": "markdown",
   "metadata": {
    "slideshow": {
     "slide_type": "slide"
    }
   },
   "source": [
    "### Comparar numérico e analítico:"
   ]
  },
  {
   "cell_type": "code",
   "execution_count": 2,
   "metadata": {
    "slideshow": {
     "slide_type": "fragment"
    }
   },
   "outputs": [
    {
     "data": {
      "image/png": "[encoded data removed]",
      "text/plain": [
       "<Figure size 432x288 with 1 Axes>"
      ]
     },
     "metadata": {
      "needs_background": "light"
     },
     "output_type": "display_data"
    }
   ],
   "source": [
    "'''\n",
    "Coloquei todas as funções 1D num arquivo '.py'. No final desse mesmo\n",
    "arquivo escrevi um código 'main' que chama as funções e usando a magic\n",
    "function \"%run\" podemos executá-la no notebook:  \n",
    "'''\n",
    "%run metropolis_ising_model_1D.py"
   ]
  },
  {
   "cell_type": "markdown",
   "metadata": {
    "slideshow": {
     "slide_type": "slide"
    }
   },
   "source": [
    "## Como os spin estão se comportando?"
   ]
  },
  {
   "cell_type": "code",
   "execution_count": 5,
   "metadata": {
    "slideshow": {
     "slide_type": "fragment"
    }
   },
   "outputs": [
    {
     "data": {
      "image/png": "[encoded data removed]",
      "text/plain": [
       "<Figure size 720x576 with 2 Axes>"
      ]
     },
     "metadata": {
      "needs_background": "light"
     },
     "output_type": "display_data"
    }
   ],
   "source": [
    "'''\n",
    "Queremos 2000 'swaps'.\n",
    "'''\n",
    "N = 200\n",
    "steps = 2000\n",
    "\n",
    "y = np.array(range(N))      # número de spins na cadeia\n",
    "x = np.array(range(steps))  # tentaivas de 'flip'\n",
    "x, y = np.meshgrid(x, y)    # rede para o 'plot'\n",
    "\n",
    "z = np.ones((N,steps))\n",
    "alpha = start_config(N, cold=True)\n",
    "\n",
    "for i in range(z.shape[1]):\n",
    "    z[:,i] = alpha\n",
    "    alpha = new_config(alpha,T=0.125)\n",
    "    \n",
    "plt.figure(figsize=(10,8))    \n",
    "plt.pcolormesh(x,y,z,vmax=1, vmin=-1)\n",
    "plt.colorbar()\n",
    "plt.show()"
   ]
  },
  {
   "cell_type": "code",
   "execution_count": 9,
   "metadata": {
    "slideshow": {
     "slide_type": "slide"
    }
   },
   "outputs": [],
   "source": [
    "'''\n",
    "Talvez para analisar as propriedades termodinâmicas seja melhor\n",
    "usar uma class 'Chain' para facilitar as coisas: \n",
    "'''\n",
    "\n",
    "class Chain:\n",
    "    def __init__(self, N, J=.1, B = 0, mu = .5, k = 1, cold = True):\n",
    "        self._N     = N # não alterar depois de iniciado\n",
    "        self.J      = J\n",
    "        self.B      = B\n",
    "        self.mu     = mu\n",
    "        self.k      = k\n",
    "        self._chain = self._start_config(cold) # somente new_config pode alterar\n",
    "\n",
    "    def _start_config(self, cold):\n",
    "        '''\n",
    "        Retorna uma array contendo os estados de spin inicial;\n",
    "            * Se cold = True: teremos N spins 'Up' (+1)\n",
    "            * Se cold = False: array aleatória de \"Up's\" & \"Down's\"\n",
    "        '''\n",
    "        N = self._N\n",
    "\n",
    "        if cold == True:\n",
    "            chain_ini = np.ones(N)\n",
    "        else:\n",
    "            chain_ini = np.random.randint(-1, high=1, size=N)\n",
    "            chain_ini += chain_ini + 1\n",
    "        return chain_ini\n",
    "\n",
    "    def thermalize(self, T, steps = 10):\n",
    "        '''\n",
    "        \"Termaliza\" o sistema de 'N' spins a uma temperatura T.\n",
    "        Fazemos isso aplicando o algoritmo de Metropolis (steps x N) vezes.\n",
    "        '''\n",
    "        N = self._N\n",
    "        for i in range(steps * N):\n",
    "            self.new_config(T)\n",
    "\n",
    "    def calc_energy(self):\n",
    "        '''\n",
    "        Calcula a energia da cadeia de spins usando o Hamiltoniano do modelo de Ising\n",
    "        '''\n",
    "        μ = self.mu\n",
    "        J = self.J\n",
    "        B = self.B\n",
    "        S = self._chain\n",
    "        E = 0\n",
    "        for i in range(len(S)-1):\n",
    "            E += - J * S[i]*S[i+1] - μ * S[i] * B\n",
    "        E += μ * S[-1] * B # contabiliza último sítio\n",
    "        return E\n",
    "\n",
    "    def _calc_ΔE(self, ind):\n",
    "        '''\n",
    "        Calcula a alteração na energia de um 'flip'.\n",
    "            * Essa função não tem utilidade fora da classe.\n",
    "            * Somente usar aqui dentro.\n",
    "        '''\n",
    "        S_t = self._chain\n",
    "        J   = self.J\n",
    "        μ   = self.mu\n",
    "        B   = self.B\n",
    "\n",
    "        i_0 = ind - 1\n",
    "        i_2 = ind + 1\n",
    "\n",
    "        if ind == 0:\n",
    "            ΔE = 2 * S_t[ind] * (-J * S_t[i_2] - μ*B)\n",
    "        elif ind == len(S_t) - 1:\n",
    "            ΔE = 2 * S_t[ind] * (-J * S_t[i_0] - μ*B)\n",
    "        else:\n",
    "            ΔE = 2 * S_t[ind] * (-J * (S_t[i_2] + S_t[i_0]) - μ*B)\n",
    "        return ΔE\n",
    "\n",
    "    def calc_magn(self):\n",
    "        '''\n",
    "        Calcula a magnetização normalizada pelo tamanho\n",
    "        da cadeia de spins \"N\".\n",
    "        '''\n",
    "        return np.sum(self._chain)/self._N\n",
    "\n",
    "    def decide(self, ind, T):\n",
    "\n",
    "        '''\n",
    "        Função para decidir se o estado teste ('flipado') é aceito, ou não,\n",
    "        como novo estado de spins.\n",
    "        '''\n",
    "        S_t = self._chain\n",
    "\n",
    "        # Calcula Energia \"atual\" E_k:\n",
    "        Delta_E = self._calc_ΔE(ind)\n",
    "\n",
    "        if Delta_E <= 0:\n",
    "            return True\n",
    "        else:\n",
    "            R = np.exp(-Delta_E/(self.k * T))\n",
    "            rᵢ = random.uniform()\n",
    "            if rᵢ <= R:\n",
    "                return True\n",
    "            else:\n",
    "                return False\n",
    "\n",
    "    def new_config(self, T):\n",
    "        '''\n",
    "        Executa uma 'rodada' do algoritmo de Metropolis.\n",
    "        '''\n",
    "        ind = random.randint(0, self._N) # Escolhe um sítio:\n",
    "        self._chain[ind] *= -1 # flip\n",
    "\n",
    "        decision = self.decide(ind, T) # Decisão:\n",
    "        if decision == False:\n",
    "            self._chain[ind] *= -1\n",
    "\n",
    "        return None\n",
    " "
   ]
  },
  {
   "cell_type": "code",
   "execution_count": 18,
   "metadata": {
    "slideshow": {
     "slide_type": "skip"
    }
   },
   "outputs": [
    {
     "data": {
      "image/png": "[encoded data removed]",
      "text/plain": [
       "<Figure size 720x576 with 2 Axes>"
      ]
     },
     "metadata": {
      "needs_background": "light"
     },
     "output_type": "display_data"
    }
   ],
   "source": [
    "'''\n",
    "Queremos 100 'swaps'.\n",
    "'''\n",
    "N = 200\n",
    "steps = 2000\n",
    "Temp = .125\n",
    "y = np.array(range(N))\n",
    "x = np.array(range(steps))\n",
    "x, y = np.meshgrid(x, y)\n",
    "z = np.ones((N,steps))\n",
    "\n",
    "ising_chain = Chain(N)\n",
    "# ising_chain.thermalize(T=Temp)\n",
    "\n",
    "for i in range(z.shape[1]):\n",
    "    z[:,i] = ising_chain._chain\n",
    "    alpha = ising_chain.new_config(Temp)\n",
    "    \n",
    "plt.figure(figsize=(10,8))\n",
    "plt.pcolormesh(x,y,z,vmax=1,vmin=-1)\n",
    "plt.colorbar()\n",
    "plt.show()"
   ]
  },
  {
   "cell_type": "code",
   "execution_count": 22,
   "metadata": {
    "slideshow": {
     "slide_type": "slide"
    }
   },
   "outputs": [],
   "source": [
    "def average_energy(chain , Temp, N_samples=100):\n",
    "    '''\n",
    "    Calcula a média num emsemble em equilíbrio com um\n",
    "    banho térmico de temperatura 'Temp'.\n",
    "    'N_samples' é o tamanho da amostra no ensemble.\n",
    "    '''\n",
    "    E_vec = np.zeros(N_samples)\n",
    "    \n",
    "    for i in range(N_samples):\n",
    "        E_vec[i] = chain.calc_energy()\n",
    "        chain.new_config(Temp)\n",
    "    \n",
    "    return np.sum(E_vec)/N_samples\n",
    "\n",
    "def energy_array(ising_chain, T_array):\n",
    "    '''\n",
    "    Gera uma array de valores de Energia dado uma cadeia de Ising e \n",
    "    uma array contendo os valores de temperatura.\n",
    "    '''    \n",
    "    E_array = np.zeros(len(T_array))\n",
    "    \n",
    "    for i in range(len(T_array)):\n",
    "        ising_chain.thermalize( T = T_array[i], steps = 5)\n",
    "        E_array[i] =  average_energy(ising_chain, Temp = T_array[i], N_samples=200)\n",
    "    \n",
    "    return E_array\n"
   ]
  },
  {
   "cell_type": "code",
   "execution_count": 23,
   "metadata": {
    "slideshow": {
     "slide_type": "slide"
    }
   },
   "outputs": [
    {
     "data": {
      "image/png": "[encoded data removed]",
      "text/plain": [
       "<Figure size 432x288 with 1 Axes>"
      ]
     },
     "metadata": {
      "needs_background": "light"
     },
     "output_type": "display_data"
    }
   ],
   "source": [
    "T_array = np.linspace(0,2,101)[1:]\n",
    "\n",
    "N = 200\n",
    "ising_chain = Chain(N)\n",
    "\n",
    "E_array = energy_array(ising_chain, T_array)\n",
    "\n",
    "plt.plot(T_array, E_array)\n",
    "plt.show()"
   ]
  },
  {
   "cell_type": "code",
   "execution_count": 25,
   "metadata": {
    "slideshow": {
     "slide_type": "slide"
    }
   },
   "outputs": [
    {
     "data": {
      "image/png": "[encoded data removed]",
      "text/plain": [
       "<Figure size 432x288 with 1 Axes>"
      ]
     },
     "metadata": {
      "needs_background": "light"
     },
     "output_type": "display_data"
    }
   ],
   "source": [
    "'''\n",
    "Queremos diminuir a flutuação presente nos resultados \n",
    "obtidos para a energia dependente da temperatura. Para isso\n",
    "vamos executar a simulação 'M' vezes com diferentes \"seeds\"\n",
    "e tomar a média ponto à ponto.\n",
    "\n",
    "'''\n",
    "T_array = np.linspace(0,2,101)[1:]\n",
    "\n",
    "N = 200\n",
    "\n",
    "M_seeds = 10\n",
    "E_array = np.zeros(len(T_array))\n",
    "\n",
    "for m in range(M_seeds):\n",
    "    np.random.seed()\n",
    "    ising_chain = Chain(N)\n",
    "    E_array += energy_array(ising_chain, T_array)\n",
    "\n",
    "E_array = (1/M_seeds) * E_array\n",
    "np.save('Energy_average_seeds.npy', E_array)\n",
    "\n",
    "plt.plot(T_array, E_array)\n",
    "plt.show()"
   ]
  },
  {
   "cell_type": "markdown",
   "metadata": {
    "slideshow": {
     "slide_type": "slide"
    }
   },
   "source": [
    "## Energia Interna e Calor Específico:\n",
    "\n",
    "A energia interna de uma amostra é definida como a média de ensemble das nergias dos microestados,\n",
    "\n",
    "$$\n",
    "U \\equiv \\langle E \\rangle = \\frac{\\sum_m E_m \\exp(-E_m/k_BT)}{\\sum_{m^\\prime} \\exp(-E_{m^\\prime}/k_BT)}\n",
    "$$\n",
    "\n",
    "Pode-se a partir da expressão acima chegar na relação entre energia interna e a derivada logarítmica da função de partição:\n",
    "\n",
    "$$\n",
    "U = k_BT^2\\frac{\\partial \\ln Z}{\\partial T}\n",
    "$$\n",
    "\n",
    "Definimos o calor específico como:\n",
    "\n",
    "$$\n",
    "C_V = \\frac{\\partial U}{\\partial T}\n",
    "$$\n",
    "\n",
    "que, por sua vez está relacionado com a variância da energia\n",
    "\n",
    "$$\n",
    "\\sigma^2_E = \\langle E^2 \\rangle - \\langle E \\rangle^2\n",
    "$$\n",
    "\n",
    "por\n",
    "\n",
    "$$\n",
    "C_V = \\frac{1}{k_BT^2} \\sigma^2_E\n",
    "$$"
   ]
  },
  {
   "cell_type": "code",
   "execution_count": 8,
   "metadata": {
    "slideshow": {
     "slide_type": "slide"
    }
   },
   "outputs": [
    {
     "data": {
      "image/png": "[encoded data removed]",
      "text/plain": [
       "<Figure size 1152x288 with 4 Axes>"
      ]
     },
     "metadata": {
      "needs_background": "light"
     },
     "output_type": "display_data"
    }
   ],
   "source": [
    "%run metropolis_ising_model_1D_oop.py"
   ]
  },
  {
   "cell_type": "markdown",
   "metadata": {
    "slideshow": {
     "slide_type": "slide"
    }
   },
   "source": [
    "# Modelo de Ising Bidimensional:"
   ]
  },
  {
   "cell_type": "code",
   "execution_count": 7,
   "metadata": {
    "scrolled": true,
    "slideshow": {
     "slide_type": "slide"
    }
   },
   "outputs": [
    {
     "name": "stdout",
     "output_type": "stream",
     "text": [
      "N_rows [default = 10]: \n",
      "M_columns [default = 10]: \n",
      "seeds [default = 5]: \n",
      "rounds_metr [default = 5]: \n",
      "steps_therm [default = 5]: \n"
     ]
    },
    {
     "data": {
      "image/png": "[encoded data removed]",
      "text/plain": [
       "<Figure size 1152x288 with 3 Axes>"
      ]
     },
     "metadata": {
      "needs_background": "light"
     },
     "output_type": "display_data"
    }
   ],
   "source": [
    "run metropolis_ising_model_2D.py"
   ]
  },
  {
   "cell_type": "code",
   "execution_count": 8,
   "metadata": {
    "slideshow": {
     "slide_type": "slide"
    }
   },
   "outputs": [
    {
     "name": "stdout",
     "output_type": "stream",
     "text": [
      "N_rows [default = 10]: \n",
      "M_columns [default = 10]: \n",
      "seeds [default = 5]: 10\n",
      "rounds_metr [default = 5]: 10\n",
      "steps_therm [default = 5]: 10\n"
     ]
    },
    {
     "data": {
      "image/png": "[encoded data removed]",
      "text/plain": [
       "<Figure size 1152x288 with 3 Axes>"
      ]
     },
     "metadata": {
      "needs_background": "light"
     },
     "output_type": "display_data"
    }
   ],
   "source": [
    "run metropolis_ising_model_2D.py"
   ]
  },
  {
   "cell_type": "code",
   "execution_count": null,
   "metadata": {
    "slideshow": {
     "slide_type": "slide"
    }
   },
   "outputs": [],
   "source": [
    "run metropolis_ising_model_2D.py"
   ]
  },
  {
   "cell_type": "markdown",
   "metadata": {
    "slideshow": {
     "slide_type": "slide"
    }
   },
   "source": [
    "# Fim"
   ]
  },
  {
   "cell_type": "code",
   "execution_count": 9,
   "metadata": {
    "slideshow": {
     "slide_type": "slide"
    }
   },
   "outputs": [],
   "source": [
    "A = np.array([1,2,3])\n",
    "A += A\n",
    "A = (1/10) * A\n",
    "\n",
    "B = np.array([1,2,3])"
   ]
  },
  {
   "cell_type": "code",
   "execution_count": 4,
   "metadata": {},
   "outputs": [
    {
     "data": {
      "text/plain": [
       "array([[ 0.,  0.],\n",
       "       [71.,  0.],\n",
       "       [ 0.,  0.]])"
      ]
     },
     "execution_count": 4,
     "metadata": {},
     "output_type": "execute_result"
    }
   ],
   "source": [
    "N = 3\n",
    "M = 2\n",
    "Test = np.zeros((N,M))\n",
    "Test[1,0] = 71\n",
    "Test"
   ]
  },
  {
   "cell_type": "code",
   "execution_count": 15,
   "metadata": {},
   "outputs": [
    {
     "data": {
      "text/plain": [
       "array([6, 2, 3])"
      ]
     },
     "execution_count": 15,
     "metadata": {},
     "output_type": "execute_result"
    }
   ],
   "source": [
    "def test():\n",
    "    return A, B\n",
    "C, D = test()\n",
    "D"
   ]
  },
  {
   "cell_type": "code",
   "execution_count": null,
   "metadata": {},
   "outputs": [],
   "source": []
  },
  {
   "cell_type": "code",
   "execution_count": null,
   "metadata": {},
   "outputs": [],
   "source": []
  },
  {
   "cell_type": "code",
   "execution_count": 28,
   "metadata": {
    "slideshow": {
     "slide_type": "skip"
    }
   },
   "outputs": [
    {
     "name": "stdout",
     "output_type": "stream",
     "text": [
      "Digite um int: 22\n",
      "1\n"
     ]
    }
   ],
   "source": [
    "ind = int(input(\"Digite um int: \"))\n",
    "r = ind % len(chain_ini)\n",
    "print(chain_ini[r])\n",
    "\n",
    "list(range(5))\n",
    "\n",
    "p = 0\n",
    "N = 5\n",
    "m = 12\n",
    "for i in range(m*N):\n",
    "    if i % N == (N-1):\n",
    "        p +=1\n",
    "        print(\"i: %i , p: %i\" % (i, p))"
   ]
  },
  {
   "cell_type": "code",
   "execution_count": 17,
   "metadata": {},
   "outputs": [
    {
     "name": "stdout",
     "output_type": "stream",
     "text": [
      "1.0\n",
      "1.0\n"
     ]
    },
    {
     "data": {
      "text/plain": [
       "[0, 1]"
      ]
     },
     "execution_count": 17,
     "metadata": {},
     "output_type": "execute_result"
    }
   ],
   "source": [
    "z_test = np.ones([3,2])\n",
    "\n",
    "for z_c in z_test[1,:]:\n",
    "    print(z_c)\n",
    "    \n",
    "list(range(z.shape[1]))"
   ]
  },
  {
   "cell_type": "code",
   "execution_count": null,
   "metadata": {},
   "outputs": [],
   "source": []
  },
  {
   "cell_type": "code",
   "execution_count": null,
   "metadata": {},
   "outputs": [],
   "source": []
  },
  {
   "cell_type": "code",
   "execution_count": null,
   "metadata": {},
   "outputs": [],
   "source": []
  }
 ],
 "metadata": {
  "kernelspec": {
   "display_name": "Python 3",
   "language": "python",
   "name": "python3"
  },
  "language_info": {
   "codemirror_mode": {
    "name": "ipython",
    "version": 3
   },
   "file_extension": ".py",
   "mimetype": "text/x-python",
   "name": "python",
   "nbconvert_exporter": "python",
   "pygments_lexer": "ipython3",
   "version": "3.7.1"
  },
  "rise": {
   "scroll": true
  }
 },
 "nbformat": 4,
 "nbformat_minor": 2
}
