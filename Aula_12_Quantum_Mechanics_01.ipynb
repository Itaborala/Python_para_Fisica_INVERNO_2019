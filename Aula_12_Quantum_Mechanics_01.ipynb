{
 "cells": [
  {
   "cell_type": "markdown",
   "metadata": {
    "slideshow": {
     "slide_type": "slide"
    }
   },
   "source": [
    "# Mecânica Quântica\n",
    "\n",
    "## Equação de Schrödinger:\n",
    "\n",
    "De maneira geral, a famosa equação de Schrödinger pode ser escrita da forma:\n",
    "\n",
    "$$ i\\hbar\\frac{\\partial \\psi}{\\partial t} = \\hat{H} \\psi $$\n",
    "\n",
    "Estaremos, neste curso, interessados no caso específico em que $\\hat{H} = \\hat{T} + \\hat{V}$:\n",
    "\n",
    "$$ i\\hbar\\frac{\\partial \\psi}{\\partial t}= -\\frac{\\hbar^2}{2m}\\nabla^2 \\psi + V(\\vec{r}) \\psi   $$\n",
    "\n",
    "Por meio de separação de variáveis chegamos à:\n",
    "\n",
    "$$-\\frac{\\hbar^2}{2m}\\nabla^2 \\varphi + V(\\vec{r}) \\varphi = E \\varphi  $$\n"
   ]
  },
  {
   "cell_type": "markdown",
   "metadata": {
    "slideshow": {
     "slide_type": "slide"
    }
   },
   "source": [
    "## Partícula confinada:\n",
    "\n",
    "Imaginemos a situação em que temos uma partícula confinada num poço definido por:\n",
    "\n",
    "$$V(x) = \\left \\{ \\begin{align} & 0, & ~|x| \\leq L \\\\\n",
    "& \\infty, & ~ |x| > L\\end{align} \\right.$$\n",
    "\n",
    "Podemos argumentar que, nesta situação:\n",
    "\n",
    "$$ \n",
    "\\begin{align}\n",
    "\\varphi(x) & = 0 ~~~~ & \\text{se }~ |x| > L \\\\\n",
    "-\\frac{\\hbar^2}{2m} \\frac{d^2\\varphi}{dx^2}  &=  E \\varphi ~~~~ & \\text{se }~ |x| \\leq L\n",
    "\\end{align}\n",
    "$$"
   ]
  },
  {
   "cell_type": "markdown",
   "metadata": {
    "slideshow": {
     "slide_type": "subslide"
    }
   },
   "source": [
    "Para a região interna do poço:\n",
    "\n",
    "$$\n",
    "\\begin{align}\n",
    "\\frac{d^2 \\varphi}{dx^2}  &= -\\frac{2m E}{\\hbar^2} \\varphi \\\\\n",
    "\\frac{d^2 \\varphi}{dx^2}  &= -k^2 \\varphi \n",
    "\\end{align}\n",
    "$$\n",
    "assim\n",
    "\n",
    "$$ \\varphi(x) = A \\exp(\\pm ikx) $$\n",
    "\n",
    "$$ k = \\sqrt{\\frac{2m E}{\\hbar^2}} ~~~\\longrightarrow~~~ E = \\frac{\\hbar^2 k^2}{2m}$$\n",
    "\n",
    "No entanto será mais conveniente usar as combinações lineares especiais dessas soluções conhecidas como seno e cosseno:\n",
    "\n",
    "$$\n",
    "\\begin{align}\n",
    "\\varphi_{+}(x) &= \\frac{A}{2}[\\exp(i k_+ x) + \\exp(-ik_+ x)] = A \\cos(k_+ x) \\\\\n",
    "\\varphi_{-}(x) &= \\frac{A}{2i}[\\exp(ik_- x) - \\exp(-ik_- x)] = A \\sin(k_- x)\n",
    "\\end{align}\n",
    "$$"
   ]
  },
  {
   "cell_type": "markdown",
   "metadata": {
    "slideshow": {
     "slide_type": "slide"
    }
   },
   "source": [
    "### Condições de contorno:\n",
    "\n",
    "Como $\\varphi_{+}(\\pm L) = 0$ assim como $\\varphi_{-}(\\pm L) = 0$, não serão permitidos quaisquer valores de $k_{\\pm}$. Para as funções pares, teremos:\n",
    "\n",
    "$$\n",
    "\\begin{align}\n",
    "k_{+} &= \\frac{n \\pi}{2L}, &n = 1,~3,~ 5,~\\dots \\\\\n",
    "      &= \\frac{(2\\tilde{n}-1)\\pi}{2L}, &\\tilde{n}= 1,~2,~\\dots\n",
    "\\end{align}\n",
    "$$\n",
    "\n",
    "Enquanto que para as funções ímpares, os valores permitidos para $k_{-}$ serão dados por:\n",
    "\n",
    "$$\n",
    "k_{-} = \\frac{n \\pi}{L}, ~~~~~~~n = 1,~2,~\\dots\n",
    "$$\n",
    "\n",
    "Dessa maneira, as chamadas autoenergias, serão dadas por:\n",
    "\n",
    "\n",
    "$$\n",
    "E_{\\pm} = \\frac{\\hbar^2}{2m} k_{\\pm}^2  = \\left\\{\\begin{align}\n",
    "    &= \\frac{\\hbar^2}{2m} \\left[ \\frac{(2n - 1) \\pi}{2L} \\right]^2 \\\\\n",
    "    &= \\frac{\\hbar^2}{2m} \\left( \\frac{n \\pi}{2L} \\right)^2\n",
    "    \\end{align}\n",
    "\\right.\n",
    "$$"
   ]
  },
  {
   "cell_type": "code",
   "execution_count": 1,
   "metadata": {
    "slideshow": {
     "slide_type": "slide"
    }
   },
   "outputs": [
    {
     "data": {
      "text/plain": [
       "<Figure size 1600x400 with 2 Axes>"
      ]
     },
     "metadata": {},
     "output_type": "display_data"
    }
   ],
   "source": [
    "import numpy as np\n",
    "import matplotlib.pyplot as plt\n",
    "\n",
    "fig = plt.figure(figsize=plt.figaspect(0.25))\n",
    "ax1 = fig.add_subplot(121)\n",
    "ax2 = fig.add_subplot(122)\n",
    "\n",
    "L = 10\n",
    "x = np.linspace(-L,L,101)\n",
    "\n",
    "markers = [\"r-.\",\"g-\",\"b--\"]\n",
    "\n",
    "for n in range(1,4):\n",
    "    y = np.cos(((2*n -1)* np.pi/(2*L)) * x)\n",
    "    ax1.plot(x, y, markers[n-1])\n",
    "    \n",
    "for n in range(1,4):\n",
    "    y = np.sin((n* np.pi/(L)) * x)\n",
    "    ax2.plot(x, y, markers[n-1])\n",
    "\n",
    "plt.tight_layout()\n",
    "plt.show()\n",
    "    "
   ]
  },
  {
   "cell_type": "code",
   "execution_count": 3,
   "metadata": {
    "slideshow": {
     "slide_type": "slide"
    }
   },
   "outputs": [],
   "source": [
    "def energy_analitica(n, L, parity):\n",
    "    if parity % 2 == 0:\n",
    "        return (1/2) * ((2*n-1) * np.pi/(2 * L))**2\n",
    "    else:\n",
    "        return (1/2) * (n * np.pi/L)**2\n",
    "\n",
    "def V_well(x):\n",
    "    '''\n",
    "    Define a função potencial com \n",
    "    o formato de um poço retangular.\n",
    "    '''\n",
    "    L    = 1.0\n",
    "    Vmax = 500\n",
    "    if x < L :\n",
    "        return 0\n",
    "    else:\n",
    "        return Vmax"
   ]
  },
  {
   "cell_type": "markdown",
   "metadata": {
    "slideshow": {
     "slide_type": "slide"
    }
   },
   "source": [
    "## Solução numérica: Método do \"Arremesso\" \n",
    "### (Shooting  Method)\n",
    "\n",
    "Vamos tratar o problema de determinar as funções de onda solucionando uma equação diferencial sujeita a certas condições de \"contorno\".\n",
    "\n",
    "**Funções pares:** $\\varphi(-x) = \\varphi(x)$\n",
    "\n",
    "$$ \n",
    "\\begin{align}\n",
    "    \\left.\\frac{d\\varphi}{dx}\\right|_{x=0} &= 0 \\\\\n",
    "    &\\\\\n",
    "    \\varphi(0) &= 1 ~~\\text{provisoriamente}\n",
    "\\end{align}\n",
    "$$\n",
    "\n",
    "**Funções ímpares:** $\\varphi(-x) = -\\varphi(x)$\n",
    "\n",
    "$$ \n",
    "\\begin{align}\n",
    "    \\left.\\frac{d\\varphi}{dx}\\right|_{x=0} &= 1 ~~\\text{provisoriamente}\\\\\n",
    "    &\\\\\n",
    "    \\varphi(0) &= 0 \n",
    "\\end{align}\n",
    "$$"
   ]
  },
  {
   "cell_type": "markdown",
   "metadata": {
    "slideshow": {
     "slide_type": "slide"
    }
   },
   "source": [
    "**Equação diferencial discretizada:**\n",
    "\n",
    "Primeiro escrevemos a seguinte aproximação para a derivada de segunda ordem:\n",
    "\n",
    "$$\n",
    "\\frac{d^2 \\varphi}{dx^2} \\approx \\frac{\\varphi_{n+1} + \\varphi_{n-1} - 2 \\varphi_{n}}{(\\Delta x)^2}\n",
    "$$\n",
    "\n",
    "Dessa forma, a equação de Schrödinger independente do tempo e discretizada no espaço fica dada por\n",
    "\n",
    "$$\n",
    "-\\frac{\\hbar^2}{2m} \\frac{\\varphi_{n+1} + \\varphi_{n-1} - 2 \\varphi_{n}}{(\\Delta x)^2} \\approx (E - V_n) \\varphi_n\n",
    "$$\n",
    "\n",
    "onde $V_n = V(n\\Delta x)$. Daqui pra frente $\\hbar = 1$ e $m = 1$."
   ]
  },
  {
   "cell_type": "markdown",
   "metadata": {
    "slideshow": {
     "slide_type": "fragment"
    }
   },
   "source": [
    "$$ \\varphi_{n+1} = 2\\varphi_{n}- \\varphi_{n-1}- 2(\\Delta x)^2(E-V_n)\\varphi_{n}$$"
   ]
  },
  {
   "cell_type": "code",
   "execution_count": 4,
   "metadata": {
    "slideshow": {
     "slide_type": "slide"
    }
   },
   "outputs": [],
   "source": [
    "def itera(psi0, psi1, Δx, E, V):\n",
    "    '''\n",
    "    Nesta função, a partir de psi_0 e psi_1, calculamos\n",
    "    o valor da função no ponto seguinte psi_2:\n",
    "    '''\n",
    "    psi_2 = 2*psi1 - psi0 -2*(Δx**2)*(E-V)*psi1 \n",
    "    return psi_2\n",
    "\n",
    "\n",
    "\n",
    "def itera_all(psi_array, E, V, Δx, cutoff):\n",
    "    \n",
    "    N = len(psi_array) # Mede o comprimento de psi_array\n",
    "    \n",
    "    for i in range(2, N):\n",
    "        \n",
    "        psi_array[i] = itera(psi_array[i-2], psi_array[i-1],\n",
    "                             Δx, E, V(i*Δx))\n",
    "        \n",
    "        if abs(psi_array[i]) > cutoff:\n",
    "            last = psi_array[i]\n",
    "            return psi_array, last, i\n",
    "        \n",
    "    last = psi_array[N-1]\n",
    "    \n",
    "    return psi_array, last, N-1\n",
    "        "
   ]
  },
  {
   "cell_type": "markdown",
   "metadata": {
    "slideshow": {
     "slide_type": "slide"
    }
   },
   "source": [
    "## Digressão sobre paridade de funções:\n",
    "\n",
    "\n",
    "Uma  função $f(x)$ definina de modo que valores reais levam a outros valores reais ($\\mathbb{R} \\rightarrow \\mathbb{R}$) é dita par se \n",
    "\n",
    "$$\n",
    "f(-x) = f(x)\n",
    "$$\n",
    "\n",
    "Por outro lado, chamamos de **ímpar** a função $g(x)$ definida nos reais e assumindo valores reais, se\n",
    "\n",
    "$$\n",
    "g(-x) = -g(x)\n",
    "$$\n",
    "\n",
    "**Exemplos?**"
   ]
  },
  {
   "cell_type": "code",
   "execution_count": 5,
   "metadata": {
    "slideshow": {
     "slide_type": "slide"
    }
   },
   "outputs": [],
   "source": [
    "import numpy as np\n",
    "import matplotlib.pyplot as plt"
   ]
  },
  {
   "cell_type": "code",
   "execution_count": 6,
   "metadata": {
    "slideshow": {
     "slide_type": "fragment"
    }
   },
   "outputs": [
    {
     "name": "stdout",
     "output_type": "stream",
     "text": [
      "comprimento da 'metade':  11\n",
      "comprimento da 'abscissa':  21\n",
      "comprimento do 'todo':  21\n"
     ]
    },
    {
     "data": {
      "image/png": "[encoded data removed]",
      "text/plain": [
       "<Figure size 576x576 with 1 Axes>"
      ]
     },
     "metadata": {
      "needs_background": "light"
     },
     "output_type": "display_data"
    }
   ],
   "source": [
    "'''\n",
    "Montar uma array com valores simétricos a \n",
    "partir de uma array de nan's: \n",
    "\n",
    "Usamos uma array de nan's porque uma vez queremos\n",
    "que pontos não calculados não assuma valor algum \n",
    "algum, deixando assim nosso plot limpo de valores \n",
    "espúrios (não calculados).\n",
    "'''\n",
    "\n",
    "t     = np.array(range(-10, 11)) # abscissa  do plot [-10, -9, ...,9, 10]\n",
    "array = np.full(11, np.nan)      # inicia a METADE a ser calculada explicitamente\n",
    "\n",
    "for i in range(5):\n",
    "    array[i] = i**2\n",
    "\n",
    "double = list(array[:0:-1]) # inicia uma lista começando com 'array' invertida e sem o primeiro elemento\n",
    "double += list(array) # emenda array (como lista) ao final de double\n",
    "\n",
    "'''\n",
    "Note que len(t) == len(double) \n",
    "'''\n",
    "\n",
    "print(\"comprimento da 'metade': \", len(array))\n",
    "print(\"comprimento da 'abscissa': \", len(t))\n",
    "print(\"comprimento do 'todo': \", len(double))\n",
    "\n",
    "plt.figure(figsize=(8,8))\n",
    "plt.plot(t, double)\n",
    "# plt.plot(t, 3*t**2)\n",
    "plt.show()"
   ]
  },
  {
   "cell_type": "code",
   "execution_count": 7,
   "metadata": {
    "slideshow": {
     "slide_type": "slide"
    }
   },
   "outputs": [
    {
     "data": {
      "image/png": "[encoded data removed]",
      "text/plain": [
       "<Figure size 576x576 with 1 Axes>"
      ]
     },
     "metadata": {
      "needs_background": "light"
     },
     "output_type": "display_data"
    }
   ],
   "source": [
    "'''\n",
    "Montar uma array com valores anti-simétricos a \n",
    "partir de uma array de nan's: \n",
    "'''\n",
    "\n",
    "nan_array = np.full(11, np.nan) # inicia a metade a ser calculada\n",
    "t = np.array(range(-10,11)) # abscissa  do plot\n",
    "\n",
    "for i in range(5):\n",
    "    nan_array[i] = i**2\n",
    "\n",
    "double_nan  = list(-1.* nan_array[:0:-1]) # inicia uma lista começando de com 'nan_array' \n",
    "                                          # invertida e sem o primeiro elemento\n",
    "\n",
    "double_nan += list(nan_array) # emenda a array (como lista) ao final de double_nan\n",
    "\n",
    "plt.figure(figsize=(8,8))\n",
    "plt.plot(t, double_nan)\n",
    "#plt.plot(t, 3*t**2)\n",
    "plt.show()"
   ]
  },
  {
   "cell_type": "code",
   "execution_count": 8,
   "metadata": {
    "slideshow": {
     "slide_type": "fragment"
    }
   },
   "outputs": [],
   "source": [
    "def duplica(x_half, psi_half, parity=0):\n",
    "    x_full = list(-1 * x_half[:0:-1]) + list(x_half)\n",
    "    \n",
    "    if parity % 2 == 0:    \n",
    "        psi_full = list(psi_half[:0:-1]) + list(psi_half)\n",
    "    else:\n",
    "        psi_full = list(-1*psi_half[:0:-1]) + list(psi_half)\n",
    "    \n",
    "    return x_full, psi_full    "
   ]
  },
  {
   "cell_type": "code",
   "execution_count": 9,
   "metadata": {
    "slideshow": {
     "slide_type": "slide"
    }
   },
   "outputs": [],
   "source": [
    "def interactive_shooting(x_array_half, V_func, E_i = 1.0, ΔE = 1.,\n",
    "                         cutoff = 1.5, parity = 0):\n",
    "    '''\n",
    "    Decide por parar ou continuar a iterar usando o método\n",
    "    de Shooting.\n",
    "    '''\n",
    "\n",
    "    last_divergency = 2*cutoff\n",
    "    last_index = len(x_array_half) - 1\n",
    "    \n",
    "    while True:\n",
    "        psi_half = np.full(len(x_array_half), np.nan)\n",
    "        dx = x_array_half[1] - x_array_half[0]\n",
    "\n",
    "        if parity % 2 == 0:\n",
    "            psi_half[0], psi_half[1] = 1., 1. \n",
    "        else:\n",
    "            psi_half[0], psi_half[1] = 0., dx\n",
    "                \n",
    "        psi_test, last, index = itera_all(psi_half, E_i, V_func, dx, cutoff)\n",
    "        x_full, psi_full = duplica(x_array_half, psi_test, parity)\n",
    "        \n",
    "        print(\"\"\"\n",
    "            E = %g\n",
    "            Delta  E = %g\n",
    "            Ultimo ponto = %g\n",
    "            Indice = %i\n",
    "        \"\"\" % (E_i, ΔE, last, index))\n",
    "        \n",
    "        \n",
    "        fig = plt.figure(figsize=(8,8))\n",
    "        ax  = fig.add_subplot(111)\n",
    "        ax.plot(x_full, psi_full)\n",
    "        plt.show()\n",
    "        \n",
    "        aceita = str(input(\"Aceita o resultado [N/s]: \") or \"N\")\n",
    "        print(\"aceita = \", aceita)\n",
    "        \n",
    "        if aceita.lower() == 's':\n",
    "            break\n",
    "#             run = False\n",
    "        else :\n",
    "            muda = str(input(\"Muda Delta E [N/s]?\") or \"N\")\n",
    "            if muda.lower() == 's':\n",
    "                ΔE *= -1/2\n",
    "            else:\n",
    "                troca = str(input(\"Troca o sinal de Delta E [N/s]?\") or \"N\")\n",
    "                if troca.lower() == 's':\n",
    "                    ΔE *= -1\n",
    "        E_i += ΔE\n",
    "        \n",
    "    return psi_test, E_i, index"
   ]
  },
  {
   "cell_type": "markdown",
   "metadata": {
    "slideshow": {
     "slide_type": "slide"
    }
   },
   "source": [
    "## Calculando i(N)terativamente:"
   ]
  },
  {
   "cell_type": "code",
   "execution_count": 10,
   "metadata": {
    "slideshow": {
     "slide_type": "fragment"
    }
   },
   "outputs": [
    {
     "data": {
      "text/plain": [
       "1.2337005501361697"
      ]
     },
     "execution_count": 10,
     "metadata": {},
     "output_type": "execute_result"
    }
   ],
   "source": [
    "energy_analitica(n = 1, L=1., parity=0)"
   ]
  },
  {
   "cell_type": "markdown",
   "metadata": {
    "slideshow": {
     "slide_type": "slide"
    }
   },
   "source": [
    "## Calculando i(N)terativamente:"
   ]
  },
  {
   "cell_type": "code",
   "execution_count": 11,
   "metadata": {
    "scrolled": false,
    "slideshow": {
     "slide_type": "fragment"
    }
   },
   "outputs": [
    {
     "name": "stdout",
     "output_type": "stream",
     "text": [
      "\n",
      "            E = 1\n",
      "            Delta  E = 0.05\n",
      "            Ultimo ponto = 1.51925\n",
      "            Indice = 146\n",
      "        \n"
     ]
    },
    {
     "data": {
      "image/png": "[encoded data removed]",
      "text/plain": [
       "<Figure size 576x576 with 1 Axes>"
      ]
     },
     "metadata": {
      "needs_background": "light"
     },
     "output_type": "display_data"
    },
    {
     "name": "stdout",
     "output_type": "stream",
     "text": [
      "Aceita o resultado [N/s]: s\n",
      "aceita =  s\n"
     ]
    }
   ],
   "source": [
    "paridade = 0\n",
    "\n",
    "\n",
    "x_metade = np.linspace(0, 1.5, 201)\n",
    "\n",
    "psi_metade, E, index_end = interactive_shooting(x_metade, \n",
    "                                                V_well,\n",
    "                                                E_i = 1., \n",
    "                                                ΔE=0.05, \n",
    "                                                parity=paridade, \n",
    "                                                cutoff=1.5)\n"
   ]
  },
  {
   "cell_type": "markdown",
   "metadata": {
    "slideshow": {
     "slide_type": "slide"
    }
   },
   "source": [
    "### Exercício 1: \n",
    "\n",
    "Implementar uma função potencial com a forma de uma parábola centrada em zero. A curvatura pode ser uma variável local, um argumento padrão, ou adotar a estratégia que preferir. O importante é que se possa chamar essa função com apenas o parâmetro `x`. Só assim podemos usá-la como o argumento `V_func` da função `interactive_shooting`.\n",
    "\n",
    "Use o potencial parabólico para gerar as 3 autofunções de menor energia usando a função `interactive_shooting`. "
   ]
  },
  {
   "cell_type": "markdown",
   "metadata": {},
   "source": [
    "### Exercício 2 (desafio) : \n",
    "\n",
    "Escreva uma função `automatic_shooting` que decida por você quando mudar o sinal da função, multiplicar $\\Delta E$ por $-1/2$ e quando parar. Use os critérios que você adotou para executar o `interactive_shooting` até chegar numa solução aceitável.\n",
    "\n",
    "**(Resposta será postada na semana do dia 29/07/2019 no repositório do github)**"
   ]
  },
  {
   "cell_type": "markdown",
   "metadata": {},
   "source": [
    "### Resposta para o exercício 2:  Versão automática do \"Shooting method\":"
   ]
  },
  {
   "cell_type": "code",
   "execution_count": 12,
   "metadata": {},
   "outputs": [],
   "source": [
    "N  = 101 # número de pontos da metade da função de onda (incluindo o zero)\n",
    "x = np.linspace(0,1.5,N)\n",
    "\n",
    "\n",
    "def automatic_shooting(x_array, V_func, E=10., ΔE = 0.5, cutoff=1.1, parity=0):\n",
    "    \"\"\"\n",
    "    Essa função aplica de forma automática o \"shooting method\" uma vez\n",
    "    fornecidos os seguintes inputs:\n",
    "        * array da posição;\n",
    "        * a função potencial;\n",
    "        * o primeiro \"chute\" para o valor da energia;\n",
    "        * valor inicial para o incremento na energia;\n",
    "        * limite máximo para o módulo da função de onda (cutoff);\n",
    "        * paridade desejada para a função de onda.\n",
    "    \n",
    "    Como output temos\n",
    "        * a auto-função com a paridade desejada; e\n",
    "        * e o valor para a auto-energia. \n",
    "    \"\"\"\n",
    "    dx = x_array[1] - x_array[0]\n",
    "    count = 0\n",
    "    sign_list, valor_list, ind_list = [0,0], [0,0], [0,0]\n",
    "\n",
    "    while True:\n",
    "        \n",
    "        psi_array = np.full(len(x_array), np.nan) # Define array resposta\n",
    "        \n",
    "        if parity % 2 == 0:\n",
    "            psi_array[0], psi_array[1] = 1., 1. \n",
    "        else:\n",
    "            psi_array[0], psi_array[1] = 0., dx\n",
    "\n",
    "        psi_array, last_value, last_index = itera_all(psi_array, E, V_func, dx, cutoff)\n",
    "        \n",
    "        sign_list += [int(np.sign(last_value))]\n",
    "        sign_list.pop(0)\n",
    "        \n",
    "        valor_list += [abs(last_value)]\n",
    "        valor_list.pop(0)\n",
    "        \n",
    "        ind_list += [last_index]\n",
    "        ind_list.pop(0)\n",
    "        \n",
    "        \n",
    "        if (count % 2 == 1):\n",
    "            if sign_list[1] != sign_list[0]:\n",
    "                ΔE *= -1/2\n",
    "            elif (valor_list[1] > valor_list[0]) and (ind_list[1] <= ind_list[0]):\n",
    "                ΔE *= -1\n",
    "                \n",
    "        if (abs(ΔE) < 1e-9):\n",
    "            break\n",
    "            \n",
    "        E += ΔE\n",
    "        \n",
    "        \n",
    "        count += 1\n",
    "        \n",
    "    return psi_array, E"
   ]
  },
  {
   "cell_type": "code",
   "execution_count": 18,
   "metadata": {},
   "outputs": [
    {
     "name": "stdout",
     "output_type": "stream",
     "text": [
      "Energy: 1.21532\n"
     ]
    },
    {
     "data": {
      "image/png": "[encoded data removed]",
      "text/plain": [
       "<Figure size 576x576 with 1 Axes>"
      ]
     },
     "metadata": {
      "needs_background": "light"
     },
     "output_type": "display_data"
    }
   ],
   "source": [
    "E_chute = 1.5\n",
    "paridade = 0\n",
    "\n",
    "psi_array, E = automatic_shooting(x, V_well, E = E_chute, parity = paridade) \n",
    "\n",
    "x_dobro, ψ_dobro = duplica(x, psi_array, parity = paridade)\n",
    "\n",
    "print(\"Energy: %g\" % E)\n",
    "plt.figure(figsize=(8,8))\n",
    "plt.plot(x_dobro, ψ_dobro)\n",
    "plt.show()"
   ]
  },
  {
   "cell_type": "code",
   "execution_count": null,
   "metadata": {},
   "outputs": [],
   "source": []
  }
 ],
 "metadata": {
  "celltoolbar": "Slideshow",
  "kernelspec": {
   "display_name": "Python 3",
   "language": "python",
   "name": "python3"
  },
  "language_info": {
   "codemirror_mode": {
    "name": "ipython",
    "version": 3
   },
   "file_extension": ".py",
   "mimetype": "text/x-python",
   "name": "python",
   "nbconvert_exporter": "python",
   "pygments_lexer": "ipython3",
   "version": "3.6.8"
  },
  "rise": {
   "scroll": true
  }
 },
 "nbformat": 4,
 "nbformat_minor": 2
}
